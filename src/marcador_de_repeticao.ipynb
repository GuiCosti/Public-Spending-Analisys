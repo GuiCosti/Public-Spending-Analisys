{
 "cells": [
  {
   "cell_type": "code",
   "execution_count": 1,
   "metadata": {},
   "outputs": [],
   "source": [
    "import sqlite3\n",
    "import pandas as pd\n",
    "import numpy as np\n",
    "import scipy as sc\n",
    "import yaml\n",
    "import matplotlib.pyplot as plt\n",
    "import sklearn\n",
    "import seaborn as sns\n",
    "from mpl_toolkits.mplot3d import Axes3D\n",
    "from math import isnan\n",
    "\n",
    "%matplotlib inline\n",
    "\n",
    "#import warnings\n",
    "#warnings.filterwarnings(\"ignore\")"
   ]
  },
  {
   "cell_type": "code",
   "execution_count": 2,
   "metadata": {},
   "outputs": [],
   "source": [
    "# Lendo as configurações\n",
    "with open('.\\configurations.yml') as file:\n",
    "    configurations = yaml.load(file, Loader=yaml.FullLoader)"
   ]
  },
  {
   "cell_type": "code",
   "execution_count": 3,
   "metadata": {},
   "outputs": [],
   "source": [
    "db = sqlite3.connect(configurations[\"Database\"][\"Path\"]) # connecting to sqlite database"
   ]
  },
  {
   "cell_type": "code",
   "execution_count": 4,
   "metadata": {},
   "outputs": [],
   "source": [
    "df = pd.read_sql_query(\"SELECT * FROM CARTOES\", db)"
   ]
  },
  {
   "cell_type": "code",
   "execution_count": 6,
   "metadata": {},
   "outputs": [
    {
     "name": "stdout",
     "output_type": "stream",
     "text": [
      "<class 'pandas.core.frame.DataFrame'>\n",
      "RangeIndex: 62685 entries, 0 to 62684\n",
      "Data columns (total 59 columns):\n",
      "Unnamed: 0                                 62685 non-null int64\n",
      "index                                      62685 non-null int64\n",
      "id                                         62685 non-null int64\n",
      "mesExtrato                                 62685 non-null object\n",
      "dataTransacao                              62685 non-null object\n",
      "valorTransacao                             62685 non-null float64\n",
      "id_tipoCartao                              62685 non-null int64\n",
      "codigo_tipoCartao                          62685 non-null int64\n",
      "descricao_tipoCartao                       62685 non-null object\n",
      "numeroInscricaoSocial                      10635 non-null float64\n",
      "nome_estabelecimento                       62685 non-null object\n",
      "razaoSocialReceita                         60884 non-null object\n",
      "nomeFantasiaReceita                        38874 non-null object\n",
      "localidadePessoa                           62685 non-null object\n",
      "dataAbertura                               62685 non-null object\n",
      "enderecoEletronico                         39178 non-null object\n",
      "numeroTelefone                             50449 non-null object\n",
      "descricaoLogradouro                        50449 non-null object\n",
      "numeroEndereco                             50442 non-null object\n",
      "complementoEndereco                        36339 non-null object\n",
      "numeroCEP                                  50449 non-null object\n",
      "nomeBairro                                 50377 non-null object\n",
      "codigoFormatado_estabelecimento            62685 non-null object\n",
      "tipoCodigo                                 52250 non-null object\n",
      "tipoPessoa                                 62685 non-null object\n",
      "codigoSecao                                62685 non-null object\n",
      "secao                                      62685 non-null object\n",
      "codigoSubclasse                            62685 non-null int64\n",
      "subclasse                                  62685 non-null object\n",
      "codigoDivisao                              62685 non-null int64\n",
      "divisao                                    62685 non-null object\n",
      "codigoGrupo                                62685 non-null int64\n",
      "grupo                                      62685 non-null object\n",
      "codigoClasse                               62685 non-null int64\n",
      "classe                                     62685 non-null object\n",
      "codigoIBGE                                 62685 non-null int64\n",
      "nomeIBGE                                   62685 non-null object\n",
      "pais                                       62685 non-null object\n",
      "codigo_estabelecimento                     62685 non-null int64\n",
      "descricao                                  62685 non-null object\n",
      "codigoTipo                                 62685 non-null int64\n",
      "descricaoTipo                              62685 non-null object\n",
      "sigla_uf                                   62685 non-null object\n",
      "nome_uf                                    62685 non-null object\n",
      "codigo_unidadeGestora                      62685 non-null int64\n",
      "nome_unidadeGestora                        62685 non-null object\n",
      "nome_orgaoVinculado                        62685 non-null object\n",
      "codigoSIAFI                                62685 non-null int64\n",
      "cnpj                                       62685 non-null int64\n",
      "sigla_orgaoVinculado                       62685 non-null object\n",
      "descricaoPoder                             62685 non-null object\n",
      "codigo_orgaoMaximo                         62685 non-null int64\n",
      "sigla_orgaoMaximo                          62685 non-null object\n",
      "nome_orgaoMaximo                           62685 non-null object\n",
      "codigoFormatado_portador                   62685 non-null object\n",
      "nome_portador                              62685 non-null object\n",
      "marcador_cnpj                              50449 non-null float64\n",
      "marcador_cpf                               1801 non-null float64\n",
      "tamanho_codigoFormatado_estabelecimento    62685 non-null int64\n",
      "dtypes: float64(4), int64(17), object(38)\n",
      "memory usage: 28.2+ MB\n"
     ]
    }
   ],
   "source": [
    "df.info()"
   ]
  },
  {
   "cell_type": "code",
   "execution_count": 18,
   "metadata": {},
   "outputs": [],
   "source": [
    "#criação de marcadores para contagem de repetição de compras em um mesmo CPF ou CNPJ, por usuário\n",
    "\n",
    "df['marcador_cnpj']=np.nan\n",
    "df['marcador_cpf']=np.nan"
   ]
  },
  {
   "cell_type": "code",
   "execution_count": 19,
   "metadata": {},
   "outputs": [],
   "source": [
    "df['tamanho_codigoFormatado_estabelecimento'] = df.apply(lambda x : len(x['codigoFormatado_estabelecimento']),axis=1)#se for 14 é cpf e se for 18 é cnpj"
   ]
  },
  {
   "cell_type": "code",
   "execution_count": 22,
   "metadata": {},
   "outputs": [
    {
     "name": "stdout",
     "output_type": "stream",
     "text": [
      "Wall time: 0 ns\n"
     ]
    },
    {
     "name": "stderr",
     "output_type": "stream",
     "text": [
      "C:\\Users\\debcz\\Anaconda3\\lib\\site-packages\\ipykernel_launcher.py:11: SettingWithCopyWarning: \n",
      "A value is trying to be set on a copy of a slice from a DataFrame\n",
      "\n",
      "See the caveats in the documentation: http://pandas.pydata.org/pandas-docs/stable/user_guide/indexing.html#returning-a-view-versus-a-copy\n",
      "  # This is added back by InteractiveShellApp.init_path()\n",
      "C:\\Users\\debcz\\Anaconda3\\lib\\site-packages\\ipykernel_launcher.py:19: SettingWithCopyWarning: \n",
      "A value is trying to be set on a copy of a slice from a DataFrame\n",
      "\n",
      "See the caveats in the documentation: http://pandas.pydata.org/pandas-docs/stable/user_guide/indexing.html#returning-a-view-versus-a-copy\n"
     ]
    }
   ],
   "source": [
    "%time\n",
    "for i in range(0,62685,1):#contagem de linha do df\n",
    "    portador=df['codigoFormatado_portador'][i] #portador a ser procurado\n",
    "    estabelecimento=df['codigoFormatado_estabelecimento'][i]#estabelecimento a ser procurado\n",
    "    if isnan(df['marcador_cnpj'][i])==True & isnan(df['marcador_cpf'][i])==True:#ainda não contou esse usuário e empresa, não tem marcador de cpf nem cnpj nessa linha\n",
    "        if df['tamanho_codigoFormatado_estabelecimento'][i]==18:#o vendedor tem CNPJ\n",
    "            marcador=0\n",
    "            for j in range(i,62685,1):\n",
    "                if(df['codigoFormatado_portador'][j]==portador):#se encontrar um gasto do portador\n",
    "                    if(df['codigoFormatado_estabelecimento'][j]==estabelecimento):\n",
    "                        df['marcador_cnpj'][j]=marcador\n",
    "                        j=j+1\n",
    "                        marcador=marcador+1\n",
    "        if df['tamanho_codigoFormatado_estabelecimento'][i]==14:#o vendedor tem CPF, pessoa física\n",
    "            marcador=0\n",
    "            for j in range(i,62685,1):\n",
    "                if(df['codigoFormatado_portador'][j]==portador):#se encontrar um gasto do portador\n",
    "                    if(df['codigoFormatado_estabelecimento'][j]==estabelecimento):\n",
    "                        df['marcador_cpf'][j]=marcador\n",
    "                        j=j+1\n",
    "                        marcador=marcador+1 "
   ]
  },
  {
   "cell_type": "code",
   "execution_count": 25,
   "metadata": {},
   "outputs": [
    {
     "data": {
      "text/plain": [
       "0.0       16835\n",
       "1.0        3662\n",
       "2.0        1372\n",
       "3.0         670\n",
       "4.0         377\n",
       "          ...  \n",
       "8440.0        1\n",
       "8389.0        1\n",
       "8354.0        1\n",
       "8275.0        1\n",
       "8330.0        1\n",
       "Name: marcador_cnpj, Length: 8549, dtype: int64"
      ]
     },
     "execution_count": 25,
     "metadata": {},
     "output_type": "execute_result"
    }
   ],
   "source": [
    "df['marcador_cnpj'].value_counts()"
   ]
  },
  {
   "cell_type": "code",
   "execution_count": 27,
   "metadata": {},
   "outputs": [
    {
     "data": {
      "text/plain": [
       "0.0    1471\n",
       "1.0     263\n",
       "2.0      39\n",
       "3.0      16\n",
       "5.0       5\n",
       "4.0       5\n",
       "7.0       1\n",
       "6.0       1\n",
       "Name: marcador_cpf, dtype: int64"
      ]
     },
     "execution_count": 27,
     "metadata": {},
     "output_type": "execute_result"
    }
   ],
   "source": [
    "df['marcador_cpf'].value_counts()"
   ]
  },
  {
   "cell_type": "code",
   "execution_count": 26,
   "metadata": {},
   "outputs": [],
   "source": [
    "df.to_csv(r'C:\\Users\\debcz\\Documents\\GitHub\\Public-Spending-Analisys\\src\\database_counts.csv')"
   ]
  },
  {
   "cell_type": "code",
   "execution_count": null,
   "metadata": {},
   "outputs": [],
   "source": [
    "df=pd.read_csv(r'C:\\Users\\debcz\\Documents\\GitHub\\Public-Spending-Analisys\\src\\database_counts.csv')"
   ]
  },
  {
   "cell_type": "code",
   "execution_count": 7,
   "metadata": {},
   "outputs": [
    {
     "data": {
      "text/plain": [
       "0           9.00\n",
       "1          20.00\n",
       "2         609.38\n",
       "3         389.60\n",
       "4          14.99\n",
       "          ...   \n",
       "62680     544.40\n",
       "62681     339.48\n",
       "62682     306.25\n",
       "62683    1145.17\n",
       "62684     640.88\n",
       "Name: valorTransacao, Length: 62685, dtype: float64"
      ]
     },
     "execution_count": 7,
     "metadata": {},
     "output_type": "execute_result"
    }
   ],
   "source": [
    "df[\"valorTransacao\"] "
   ]
  },
  {
   "cell_type": "code",
   "execution_count": 8,
   "metadata": {},
   "outputs": [],
   "source": [
    "df['gastos_mesmo_valor']=np.nan "
   ]
  },
  {
   "cell_type": "code",
   "execution_count": 14,
   "metadata": {},
   "outputs": [
    {
     "name": "stdout",
     "output_type": "stream",
     "text": [
      "Wall time: 0 ns\n"
     ]
    },
    {
     "name": "stderr",
     "output_type": "stream",
     "text": [
      "C:\\Users\\debcz\\Anaconda3\\lib\\site-packages\\ipykernel_launcher.py:11: SettingWithCopyWarning: \n",
      "A value is trying to be set on a copy of a slice from a DataFrame\n",
      "\n",
      "See the caveats in the documentation: http://pandas.pydata.org/pandas-docs/stable/user_guide/indexing.html#returning-a-view-versus-a-copy\n",
      "  # This is added back by InteractiveShellApp.init_path()\n"
     ]
    },
    {
     "ename": "KeyboardInterrupt",
     "evalue": "",
     "output_type": "error",
     "traceback": [
      "\u001b[1;31m---------------------------------------------------------------------------\u001b[0m",
      "\u001b[1;31mKeyboardInterrupt\u001b[0m                         Traceback (most recent call last)",
      "\u001b[1;32m<ipython-input-14-53d358fe9045>\u001b[0m in \u001b[0;36m<module>\u001b[1;34m\u001b[0m\n\u001b[0;32m      8\u001b[0m         \u001b[1;32mfor\u001b[0m \u001b[0mj\u001b[0m \u001b[1;32min\u001b[0m \u001b[0mrange\u001b[0m\u001b[1;33m(\u001b[0m\u001b[0mi\u001b[0m\u001b[1;33m,\u001b[0m\u001b[1;36m62685\u001b[0m\u001b[1;33m,\u001b[0m\u001b[1;36m1\u001b[0m\u001b[1;33m)\u001b[0m\u001b[1;33m:\u001b[0m\u001b[1;33m\u001b[0m\u001b[1;33m\u001b[0m\u001b[0m\n\u001b[0;32m      9\u001b[0m             \u001b[1;32mif\u001b[0m\u001b[1;33m(\u001b[0m\u001b[0mdf\u001b[0m\u001b[1;33m[\u001b[0m\u001b[1;34m'codigoFormatado_portador'\u001b[0m\u001b[1;33m]\u001b[0m\u001b[1;33m[\u001b[0m\u001b[0mj\u001b[0m\u001b[1;33m]\u001b[0m\u001b[1;33m==\u001b[0m\u001b[0mportador\u001b[0m\u001b[1;33m)\u001b[0m\u001b[1;33m:\u001b[0m\u001b[1;31m#se encontrar um gasto do portador\u001b[0m\u001b[1;33m\u001b[0m\u001b[1;33m\u001b[0m\u001b[0m\n\u001b[1;32m---> 10\u001b[1;33m                 \u001b[1;32mif\u001b[0m\u001b[1;33m(\u001b[0m\u001b[0mdf\u001b[0m\u001b[1;33m[\u001b[0m\u001b[1;34m\"valorTransacao\"\u001b[0m\u001b[1;33m]\u001b[0m\u001b[1;33m[\u001b[0m\u001b[0mj\u001b[0m\u001b[1;33m]\u001b[0m\u001b[1;33m==\u001b[0m\u001b[0mvalor\u001b[0m\u001b[1;33m)\u001b[0m\u001b[1;33m:\u001b[0m\u001b[1;33m\u001b[0m\u001b[1;33m\u001b[0m\u001b[0m\n\u001b[0m\u001b[0;32m     11\u001b[0m                     \u001b[0mdf\u001b[0m\u001b[1;33m[\u001b[0m\u001b[1;34m'gastos_mesmo_valor'\u001b[0m\u001b[1;33m]\u001b[0m\u001b[1;33m[\u001b[0m\u001b[0mj\u001b[0m\u001b[1;33m]\u001b[0m\u001b[1;33m=\u001b[0m\u001b[0mmarcador\u001b[0m\u001b[1;33m\u001b[0m\u001b[1;33m\u001b[0m\u001b[0m\n\u001b[0;32m     12\u001b[0m                     \u001b[0mj\u001b[0m\u001b[1;33m=\u001b[0m\u001b[0mj\u001b[0m\u001b[1;33m+\u001b[0m\u001b[1;36m1\u001b[0m\u001b[1;33m\u001b[0m\u001b[1;33m\u001b[0m\u001b[0m\n",
      "\u001b[1;32m~\\Anaconda3\\lib\\site-packages\\pandas\\core\\series.py\u001b[0m in \u001b[0;36m__getitem__\u001b[1;34m(self, key)\u001b[0m\n\u001b[0;32m   1068\u001b[0m             \u001b[0mresult\u001b[0m \u001b[1;33m=\u001b[0m \u001b[0mself\u001b[0m\u001b[1;33m.\u001b[0m\u001b[0mindex\u001b[0m\u001b[1;33m.\u001b[0m\u001b[0mget_value\u001b[0m\u001b[1;33m(\u001b[0m\u001b[0mself\u001b[0m\u001b[1;33m,\u001b[0m \u001b[0mkey\u001b[0m\u001b[1;33m)\u001b[0m\u001b[1;33m\u001b[0m\u001b[1;33m\u001b[0m\u001b[0m\n\u001b[0;32m   1069\u001b[0m \u001b[1;33m\u001b[0m\u001b[0m\n\u001b[1;32m-> 1070\u001b[1;33m             \u001b[1;32mif\u001b[0m \u001b[1;32mnot\u001b[0m \u001b[0mis_scalar\u001b[0m\u001b[1;33m(\u001b[0m\u001b[0mresult\u001b[0m\u001b[1;33m)\u001b[0m\u001b[1;33m:\u001b[0m\u001b[1;33m\u001b[0m\u001b[1;33m\u001b[0m\u001b[0m\n\u001b[0m\u001b[0;32m   1071\u001b[0m                 \u001b[1;32mif\u001b[0m \u001b[0mis_list_like\u001b[0m\u001b[1;33m(\u001b[0m\u001b[0mresult\u001b[0m\u001b[1;33m)\u001b[0m \u001b[1;32mand\u001b[0m \u001b[1;32mnot\u001b[0m \u001b[0misinstance\u001b[0m\u001b[1;33m(\u001b[0m\u001b[0mresult\u001b[0m\u001b[1;33m,\u001b[0m \u001b[0mSeries\u001b[0m\u001b[1;33m)\u001b[0m\u001b[1;33m:\u001b[0m\u001b[1;33m\u001b[0m\u001b[1;33m\u001b[0m\u001b[0m\n\u001b[0;32m   1072\u001b[0m \u001b[1;33m\u001b[0m\u001b[0m\n",
      "\u001b[1;31mKeyboardInterrupt\u001b[0m: "
     ]
    }
   ],
   "source": [
    "#marcador de gastos de mesmo valor de um mesmo portador\n",
    "%time\n",
    "for i in range(0,62685,1):#contagem de linha do df\n",
    "    portador=df['codigoFormatado_portador'][i] #portador a ser procurado\n",
    "    valor=df[\"valorTransacao\"][i]#valor \n",
    "    if isnan(df['gastos_mesmo_valor'][i])==True :#ainda não contabilizou esse valor desse portador\n",
    "        marcador=0\n",
    "        for j in range(i,62685,1):\n",
    "            if(df['codigoFormatado_portador'][j]==portador):#se encontrar um gasto do portador\n",
    "                if(df[\"valorTransacao\"][j]==valor):\n",
    "                    df['gastos_mesmo_valor'][j]=marcador\n",
    "                    j=j+1\n",
    "                    marcador=marcador+1\n",
    "       "
   ]
  },
  {
   "cell_type": "code",
   "execution_count": 13,
   "metadata": {},
   "outputs": [
    {
     "data": {
      "text/plain": [
       "0     0.0\n",
       "1     0.0\n",
       "2     0.0\n",
       "3     0.0\n",
       "4     0.0\n",
       "5     0.0\n",
       "6     0.0\n",
       "7     0.0\n",
       "8     0.0\n",
       "9     0.0\n",
       "10    0.0\n",
       "11    0.0\n",
       "12    0.0\n",
       "13    0.0\n",
       "14    0.0\n",
       "15    0.0\n",
       "16    0.0\n",
       "17    0.0\n",
       "18    0.0\n",
       "19    0.0\n",
       "Name: gastos_mesmo_valor, dtype: float64"
      ]
     },
     "execution_count": 13,
     "metadata": {},
     "output_type": "execute_result"
    }
   ],
   "source": [
    "\n"
   ]
  },
  {
   "cell_type": "code",
   "execution_count": null,
   "metadata": {},
   "outputs": [],
   "source": []
  }
 ],
 "metadata": {
  "kernelspec": {
   "display_name": "Python 3",
   "language": "python",
   "name": "python3"
  },
  "language_info": {
   "codemirror_mode": {
    "name": "ipython",
    "version": 3
   },
   "file_extension": ".py",
   "mimetype": "text/x-python",
   "name": "python",
   "nbconvert_exporter": "python",
   "pygments_lexer": "ipython3",
   "version": "3.7.4"
  }
 },
 "nbformat": 4,
 "nbformat_minor": 4
}
