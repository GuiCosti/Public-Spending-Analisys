{
 "cells": [
  {
   "cell_type": "markdown",
   "metadata": {},
   "source": [
    "# <span style=\"color: teal\">Data Crawler</span>"
   ]
  },
  {
   "cell_type": "markdown",
   "metadata": {},
   "source": [
    "### Instalando Pacotes"
   ]
  },
  {
   "cell_type": "code",
   "execution_count": null,
   "metadata": {},
   "outputs": [],
   "source": [
    "%pip install pandas\n",
    "%pip install pyyaml"
   ]
  },
  {
   "cell_type": "markdown",
   "metadata": {},
   "source": [
    "### Obtendo Dados da Fonte"
   ]
  },
  {
   "cell_type": "code",
   "execution_count": null,
   "metadata": {},
   "outputs": [],
   "source": [
    "import yaml\n",
    "import pandas as pd\n",
    "import urllib.parse"
   ]
  },
  {
   "cell_type": "code",
   "execution_count": null,
   "metadata": {},
   "outputs": [],
   "source": [
    "# Parâmetros da requisição\n",
    "parameters = {\"dataTransacaoInicio\": \"01/01/2019\", \"dataTransacaoFim\": \"31/12/2019\"} \n",
    "query_string = urllib.parse.urlencode(parameters)\n",
    "#query_string"
   ]
  },
  {
   "cell_type": "code",
   "execution_count": null,
   "metadata": {},
   "outputs": [],
   "source": [
    "# Lendo as configurações\n",
    "with open('.\\configurations.yml') as file:\n",
    "    configurations = yaml.load(file, Loader=yaml.FullLoader)\n",
    "    #print(configurations)"
   ]
  },
  {
   "cell_type": "code",
   "execution_count": null,
   "metadata": {},
   "outputs": [],
   "source": [
    "df = pd.DataFrame()\n",
    "\n",
    "def get_data_from_source():\n",
    "    \"\"\"Collect data from data source.\"\"\"\n",
    "    page = 0\n",
    "    df = pd.DataFrame()\n",
    "    while True:\n",
    "        try:\n",
    "            url = F\"{configurations['DataSource']['Host']}{configurations['DataSource']['Route']}?{query_string}&pagina=\" + str(page+1)\n",
    "            api_response = pd.read_json(url)\n",
    "            \n",
    "            if page == 0:\n",
    "                df = api_response # create new dataframe\n",
    "            else:\n",
    "                df = pd.concat([df, api_response]) # concat received data to created dataframe\n",
    "                \n",
    "            milestone(page)\n",
    "            page += 1\n",
    "        except:\n",
    "             break\n",
    "    return df\n",
    "\n",
    "def milestone(page:int, mark=1000):\n",
    "    if page == 0:\n",
    "        print(\"- Crawling Iniciado -\")\n",
    "        return\n",
    "        \n",
    "    if page % mark == 0: \n",
    "        print('{} páginas lidas'.format(page))"
   ]
  },
  {
   "cell_type": "code",
   "execution_count": null,
   "metadata": {},
   "outputs": [],
   "source": [
    "def data_transformation(df):\n",
    "    #changes de valorTransacao to float\n",
    "    df['valorTransacao'] = df['valorTransacao'].str.replace(' ','').str.replace('.','').str.replace(',','.').astype(float)\n",
    "    #reset index\n",
    "    df.reset_index(drop=True, inplace=True)\n",
    "    #break columns of dicts into actual columns and merge them into the original df by index\n",
    "    df = df.merge(pd.DataFrame(list(df['tipoCartao'])),how='left', left_index=True, right_index=True)\n",
    "    df.rename(columns={'id_x' : 'id','id_y' : 'id_tipoCartao','codigo' : 'codigo_tipoCartao','descricao' : 'descricao_tipoCartao'},inplace=True)\n",
    "    df = df.merge(pd.DataFrame(list(df['estabelecimento'])),how='left', left_index=True, right_index=True)\n",
    "    df.rename(columns={'nome': 'nome_estabelecimento', 'codigoFormatado':'codigoFormatado_estabelecimento'},inplace=True)\n",
    "    df = df.merge(pd.DataFrame(list(df['cnae'])),how='left', left_index=True, right_index=True)\n",
    "    df = df.merge(pd.DataFrame(list(df['municipio'])),how='left', left_index=True, right_index=True)\n",
    "    df = df.merge(pd.DataFrame(list(df['naturezaJuridica'])),how='left', left_index=True, right_index=True)\n",
    "    df = df.merge(pd.DataFrame(list(df['uf'])),how='left', left_index=True, right_index=True)\n",
    "    df.rename(columns={'nome': 'nome_uf','codigo' : 'codigo_estabelecimento'},inplace=True)\n",
    "    df = df.merge(pd.DataFrame(list(df['unidadeGestora'])),how='left', left_index=True, right_index=True)\n",
    "    df.rename(columns={'nome' : 'nome_unidadeGestora','codigo' : 'codigo_unidadeGestora', 'sigla':'sigla_uf'},inplace=True)\n",
    "    df = df.merge(pd.DataFrame(list(df['orgaoVinculado'])),how='left', left_index=True, right_index=True)\n",
    "    df.rename(columns={'nome' : 'nome_orgaoVinculado', 'sigla':'sigla_orgaoVinculado'},inplace=True)\n",
    "    df = df.merge(pd.DataFrame(list(df['orgaoMaximo'])),how='left', left_index=True, right_index=True)\n",
    "    df.rename(columns={'codigo' : 'codigo_orgaoMaximo', 'sigla':'sigla_orgaoMaximo', 'nome':'nome_orgaoMaximo'},inplace=True)\n",
    "    df = df.merge(pd.DataFrame(list(df['portador'])),how='left', left_index=True, right_index=True)\n",
    "    df.rename(columns={'nome': 'nome_portador', 'codigoFormatado':'codigoFormatado_portador'},inplace=True)\n",
    "    #delete columns of dicts\n",
    "    df.drop(['estabelecimento', 'cnae', 'municipio', 'naturezaJuridica', 'uf','tipoCartao','unidadeGestora','portador', 'orgaoVinculado', 'orgaoMaximo'], axis=1, inplace=True)\n",
    "    return df"
   ]
  },
  {
   "cell_type": "code",
   "execution_count": null,
   "metadata": {},
   "outputs": [],
   "source": [
    "df = data_transformation(get_data_from_source())\n",
    "#df.head()"
   ]
  },
  {
   "cell_type": "code",
   "execution_count": null,
   "metadata": {},
   "outputs": [],
   "source": [
    "from sqlalchemy import create_engine\n",
    "engine = create_engine('sqlite:///database.db')\n",
    "df.to_sql(name='cartoes',con=engine,if_exists='append')"
   ]
  }
 ],
 "metadata": {
  "kernelspec": {
   "display_name": "Python 3",
   "language": "python",
   "name": "python3"
  },
  "language_info": {
   "codemirror_mode": {
    "name": "ipython",
    "version": 3
   },
   "file_extension": ".py",
   "mimetype": "text/x-python",
   "name": "python",
   "nbconvert_exporter": "python",
   "pygments_lexer": "ipython3",
   "version": "3.6.10"
  }
 },
 "nbformat": 4,
 "nbformat_minor": 4
}
