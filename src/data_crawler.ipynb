{
 "cells": [
  {
   "cell_type": "markdown",
   "metadata": {},
   "source": [
    "# <span style=\"color: teal\">Data Crawler</span>"
   ]
  },
  {
   "cell_type": "markdown",
   "metadata": {},
   "source": [
    "### Instalando Pacotes"
   ]
  },
  {
   "cell_type": "code",
   "execution_count": null,
   "metadata": {},
   "outputs": [],
   "source": [
    "%pip install pandas\n",
    "%pip install pyyaml"
   ]
  },
  {
   "cell_type": "markdown",
   "metadata": {},
   "source": [
    "### Obtendo Dados da Fonte"
   ]
  },
  {
   "cell_type": "code",
   "execution_count": null,
   "metadata": {},
   "outputs": [],
   "source": [
    "import yaml\n",
    "import pandas as pd\n",
    "import urllib.parse"
   ]
  },
  {
   "cell_type": "code",
   "execution_count": null,
   "metadata": {},
   "outputs": [],
   "source": [
    "# Parâmetros da requisição\n",
    "parameters = {\"dataTransacaoInicio\": \"01/01/2019\", \"dataTransacaoFim\": \"31/12/2019\"} \n",
    "query_string = urllib.parse.urlencode(parameters)\n",
    "query_string"
   ]
  },
  {
   "cell_type": "code",
   "execution_count": null,
   "metadata": {},
   "outputs": [],
   "source": [
    "# Lendo as configurações\n",
    "with open('.\\configurations.yml') as file:\n",
    "    configurations = yaml.load(file, Loader=yaml.FullLoader)\n",
    "    print(configurations)"
   ]
  },
  {
   "cell_type": "code",
   "execution_count": null,
   "metadata": {},
   "outputs": [],
   "source": [
    "df = pd.DataFrame()\n",
    "\n",
    "def get_data_from_source():\n",
    "    \"\"\"Collect data from data source.\"\"\"\n",
    "    page = 0\n",
    "    df = pd.DataFrame()\n",
    "    while True:\n",
    "        try:\n",
    "            url = F\"{configurations['DataSource']['Host']}{configurations['DataSource']['Route']}?{query_string}&pagina=\" + str(page+1)\n",
    "            api_response = pd.read_json(url)\n",
    "            \n",
    "            if page == 0:\n",
    "                df = api_response # create new dataframe\n",
    "            else:\n",
    "                df = pd.concat([df, api_response]) # concat received data to created dataframe\n",
    "                \n",
    "            milestone(page)\n",
    "            page += 1\n",
    "        except:\n",
    "             break\n",
    "    return df\n",
    "\n",
    "def milestone(page:int, mark=10):\n",
    "    if page == 0:\n",
    "        print(\"- Crawling Inciado -\")\n",
    "        return\n",
    "        \n",
    "    if page % mark == 0: \n",
    "        print('{} páginas lidas'.format(page))"
   ]
  },
  {
   "cell_type": "code",
   "execution_count": null,
   "metadata": {},
   "outputs": [],
   "source": [
    "def data_transformation():\n",
    "    df['valorTransacao'] = df['valorTransacao'].str.replace(' ','').str.replace('.','').str.replace(',','.').astype(float)\n",
    "    df.reset_index(drop=True, inplace=True)\n",
    "    #df[['id_cartao','codigo_cartao','descricao_cartao']] = df['tipoCartao'].apply(pd.Series)"
   ]
  },
  {
   "cell_type": "code",
   "execution_count": null,
   "metadata": {},
   "outputs": [],
   "source": [
    "df = get_data_from_source()\n",
    "df.head()"
   ]
  }
 ],
 "metadata": {
  "kernelspec": {
   "display_name": "Python 3",
   "language": "python",
   "name": "python3"
  },
  "language_info": {
   "codemirror_mode": {
    "name": "ipython",
    "version": 3
   },
   "file_extension": ".py",
   "mimetype": "text/x-python",
   "name": "python",
   "nbconvert_exporter": "python",
   "pygments_lexer": "ipython3",
   "version": "3.7.4"
  }
 },
 "nbformat": 4,
 "nbformat_minor": 4
}
