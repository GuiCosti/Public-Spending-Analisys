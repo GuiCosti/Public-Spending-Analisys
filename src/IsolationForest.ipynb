{
 "cells": [
  {
   "cell_type": "code",
   "execution_count": 1,
   "metadata": {},
   "outputs": [],
   "source": [
    "import sqlite3\n",
    "import yaml\n",
    "import pandas as pd\n",
    "from sklearn.ensemble import IsolationForest"
   ]
  },
  {
   "cell_type": "code",
   "execution_count": 2,
   "metadata": {},
   "outputs": [],
   "source": [
    "with open('.\\configurations.yml') as file:\n",
    "    configurations = yaml.load(file, Loader=yaml.FullLoader)\n",
    "\n",
    "db = sqlite3.connect(configurations[\"Database\"][\"Path\"]) # connecting to sqlite database\n",
    "\n",
    "df = pd.read_sql_query('''SELECT \n",
    "  id,\n",
    "  valorTransacao,\n",
    "  dataTransacao,\n",
    "  codigoSubclasse,\n",
    "  tipoCodigo,\n",
    "  ROW_NUMBER() OVER(PARTITION BY valorTransacao, nome_portador ORDER BY dataTransacao ASC) \t\t\t\t\t\t\t\tAS valorTransacao_count_byPerson,\n",
    "  ROW_NUMBER() OVER(PARTITION BY codigoFormatado_estabelecimento, nome_portador ORDER BY dataTransacao ASC) \t\t\tAS codigoFormatado_estabelecimento_count_byPerson,\n",
    "  ROW_NUMBER() OVER(PARTITION BY valorTransacao, codigo_unidadeGestora ORDER BY dataTransacao ASC) \t\t\t\t\t\tAS valorTransacao_count_byAgency,\n",
    "  ROW_NUMBER() OVER(PARTITION BY codigoFormatado_estabelecimento, codigo_unidadeGestora ORDER BY dataTransacao ASC) \tAS codigoFormatado_estabelecimento_count_byAgency,\n",
    "  ROW_NUMBER() OVER(PARTITION BY valorTransacao, nome_orgaoMaximo ORDER BY dataTransacao ASC) \t\t\t\t\t\t\tAS valorTransacao_count_byDepartment,\n",
    "  ROW_NUMBER() OVER(PARTITION BY codigoFormatado_estabelecimento, nome_orgaoMaximo ORDER BY dataTransacao ASC) \t\t\tAS codigoFormatado_estabelecimento_count_bydepartment  \n",
    "FROM cartoes \n",
    "WHERE valorTransacao||nome_estabelecimento||nome_portador not in (SELECT -valorTransacao||nome_estabelecimento||nome_portador from cartoes where valorTransacao <0)\n",
    "and valorTransacao > 0''', db)"
   ]
  },
  {
   "cell_type": "code",
   "execution_count": 3,
   "metadata": {},
   "outputs": [],
   "source": [
    "df['dataTransacao'] = pd.to_datetime(df['dataTransacao'])\n",
    "df['diaSemana'] = df['dataTransacao'].dt.dayofweek\n",
    "df['dia'] = df['dataTransacao'].dt.day\n",
    "df['mes'] = df['dataTransacao'].dt.month\n",
    "df['ano'] = df['dataTransacao'].dt.year"
   ]
  },
  {
   "cell_type": "code",
   "execution_count": 4,
   "metadata": {},
   "outputs": [],
   "source": [
    "df.codigoSubclasse = df.codigoSubclasse.map(int)"
   ]
  },
  {
   "cell_type": "code",
   "execution_count": 5,
   "metadata": {},
   "outputs": [],
   "source": [
    "df.tipoCodigo = df.tipoCodigo.apply(lambda x: 1 if x=='CNPJ' else 0)"
   ]
  },
  {
   "cell_type": "code",
   "execution_count": 6,
   "metadata": {},
   "outputs": [],
   "source": [
    "#df.drop(labels=['id','dataTransacao'],axis=1).head()"
   ]
  },
  {
   "cell_type": "code",
   "execution_count": 7,
   "metadata": {},
   "outputs": [],
   "source": [
    "model = IsolationForest(random_state=42)\n",
    "df['result'] = model.fit_predict(df.drop(labels=['id','dataTransacao'],axis=1))\n",
    "df['score'] = -model.score_samples(df.drop(labels=['id','dataTransacao','result'],axis=1))"
   ]
  },
  {
   "cell_type": "code",
   "execution_count": 8,
   "metadata": {},
   "outputs": [
    {
     "data": {
      "text/plain": [
       " 1    0.873001\n",
       "-1    0.126999\n",
       "Name: result, dtype: float64"
      ]
     },
     "execution_count": 8,
     "metadata": {},
     "output_type": "execute_result"
    }
   ],
   "source": [
    "df.result.value_counts(normalize=True)"
   ]
  },
  {
   "cell_type": "code",
   "execution_count": 9,
   "metadata": {},
   "outputs": [],
   "source": [
    "df[['id','score','result']].to_sql(name='results', con=db, if_exists='replace', index=False)"
   ]
  },
  {
   "cell_type": "code",
   "execution_count": 10,
   "metadata": {},
   "outputs": [],
   "source": [
    "#df.hist('score')"
   ]
  },
  {
   "cell_type": "code",
   "execution_count": 11,
   "metadata": {},
   "outputs": [],
   "source": [
    "#df.drop(labels='result',axis=1,inplace=True)"
   ]
  }
 ],
 "metadata": {
  "kernelspec": {
   "display_name": "Python 3",
   "language": "python",
   "name": "python3"
  },
  "language_info": {
   "codemirror_mode": {
    "name": "ipython",
    "version": 3
   },
   "file_extension": ".py",
   "mimetype": "text/x-python",
   "name": "python",
   "nbconvert_exporter": "python",
   "pygments_lexer": "ipython3",
   "version": "3.7.5"
  }
 },
 "nbformat": 4,
 "nbformat_minor": 4
}
