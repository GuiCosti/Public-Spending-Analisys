{
 "cells": [
  {
   "cell_type": "code",
   "execution_count": 5,
   "metadata": {},
   "outputs": [],
   "source": [
    "import pandas as pd\n",
    "import sqlite3\n",
    "import pandas.io.sql as sqlio\n",
    "import numpy as np\n",
    "import matplotlib.pyplot as plt\n",
    "import matplotlib.cm as cm\n",
    "import statsmodels.formula.api as smf\n",
    "import seaborn as sns\n",
    "from scipy import stats\n",
    "from sklearn import linear_model\n",
    "from sklearn.metrics import mean_squared_error, r2_score\n",
    "import random\n",
    "import warnings\n",
    "warnings.filterwarnings(\"ignore\")\n",
    "\n",
    "%matplotlib inline\n"
   ]
  },
  {
   "cell_type": "code",
   "execution_count": null,
   "metadata": {},
   "outputs": [],
   "source": [
    "#%%time\n",
    "#i=0\n",
    "#while True:\n",
    "   # try:\n",
    "        #url = 'http://www.transparencia.gov.br/api-de-dados/cartoes?dataTransacaoInicio=01%2F01%2F2019&dataTransacaoFim=31%2F12%2F2019&pagina='+str(i+1)\n",
    "        #temp = pd.read_json(url)\n",
    "        #if i == 0:\n",
    "            #fatura = pd.read_json(url)\n",
    "        #else:\n",
    "            #fatura =pd.concat([fatura,temp])\n",
    "        #if i%1000==0: print('{} páginas lidas'.format(i))\n",
    "        #i+=1\n",
    "    #except:\n",
    "         #break\n",
    "\n",
    "#fatura['valorTransacao'] = fatura['valorTransacao'].str.replace(' ','').str.replace('.','').str.replace(',','.').astype(float)\n",
    "#fatura.reset_index(drop=True,inplace=True)\n",
    "#fatura[['id_cartao','codigo_cartao','descricao_cartao']] = fatura['tipoCartao'].apply(pd.Series)"
   ]
  },
  {
   "cell_type": "code",
   "execution_count": 6,
   "metadata": {},
   "outputs": [],
   "source": [
    "db = sqlite3.connect(\"database.db\")"
   ]
  },
  {
   "cell_type": "code",
   "execution_count": 7,
   "metadata": {},
   "outputs": [
    {
     "data": {
      "text/plain": [
       "(23475, 32)"
      ]
     },
     "execution_count": 7,
     "metadata": {},
     "output_type": "execute_result"
    }
   ],
   "source": [
    "df = pd.read_sql_query(\"SELECT * FROM database;\",db)\n",
    "df.shape"
   ]
  },
  {
   "cell_type": "code",
   "execution_count": 8,
   "metadata": {},
   "outputs": [
    {
     "data": {
      "text/html": [
       "<div>\n",
       "<style scoped>\n",
       "    .dataframe tbody tr th:only-of-type {\n",
       "        vertical-align: middle;\n",
       "    }\n",
       "\n",
       "    .dataframe tbody tr th {\n",
       "        vertical-align: top;\n",
       "    }\n",
       "\n",
       "    .dataframe thead th {\n",
       "        text-align: right;\n",
       "    }\n",
       "</style>\n",
       "<table border=\"1\" class=\"dataframe\">\n",
       "  <thead>\n",
       "    <tr style=\"text-align: right;\">\n",
       "      <th></th>\n",
       "      <th>field1</th>\n",
       "      <th>id_x</th>\n",
       "      <th>mesExtrato</th>\n",
       "      <th>dataTransacao</th>\n",
       "      <th>valorTransacao</th>\n",
       "      <th>id_y</th>\n",
       "      <th>codigo_x</th>\n",
       "      <th>descricao</th>\n",
       "      <th>numeroInscricaoSocial</th>\n",
       "      <th>nome_x</th>\n",
       "      <th>...</th>\n",
       "      <th>numeroCEP</th>\n",
       "      <th>nomeBairro</th>\n",
       "      <th>codigoFormatado_x</th>\n",
       "      <th>tipoCodigo</th>\n",
       "      <th>tipoPessoa</th>\n",
       "      <th>codigo_y</th>\n",
       "      <th>nome_y</th>\n",
       "      <th>orgaoVinculado</th>\n",
       "      <th>codigoFormatado_y</th>\n",
       "      <th>nome</th>\n",
       "    </tr>\n",
       "  </thead>\n",
       "  <tbody>\n",
       "    <tr>\n",
       "      <th>0</th>\n",
       "      <td>0</td>\n",
       "      <td>151023716</td>\n",
       "      <td>10/2019</td>\n",
       "      <td>18/09/2019</td>\n",
       "      <td>9.00</td>\n",
       "      <td>1</td>\n",
       "      <td>1</td>\n",
       "      <td>Cartão de Pagamento do Governo Federal - CPGF</td>\n",
       "      <td>None</td>\n",
       "      <td>ZOOP TECNOLOGIA E MEIOS DE PAGAMENTO S.A.</td>\n",
       "      <td>...</td>\n",
       "      <td>None</td>\n",
       "      <td>BARRA DA TIJUCA</td>\n",
       "      <td>19.468.242/0001-32</td>\n",
       "      <td>CNPJ</td>\n",
       "      <td>Entidades Empresariais Privadas</td>\n",
       "      <td>158461</td>\n",
       "      <td>IF CATARINENSE - CAMPUS CONCÓRDIA</td>\n",
       "      <td>{'nome': 'Instituto Federal Catarinense', 'cod...</td>\n",
       "      <td>***.857.959-**</td>\n",
       "      <td>HORALDO ANTONIO BRANDALISE</td>\n",
       "    </tr>\n",
       "    <tr>\n",
       "      <th>1</th>\n",
       "      <td>1</td>\n",
       "      <td>151023717</td>\n",
       "      <td>09/2019</td>\n",
       "      <td>02/08/2019</td>\n",
       "      <td>20.00</td>\n",
       "      <td>1</td>\n",
       "      <td>1</td>\n",
       "      <td>Cartão de Pagamento do Governo Federal - CPGF</td>\n",
       "      <td>-1</td>\n",
       "      <td>SEM INFORMACAO</td>\n",
       "      <td>...</td>\n",
       "      <td>None</td>\n",
       "      <td>None</td>\n",
       "      <td>-1</td>\n",
       "      <td>None</td>\n",
       "      <td>Sem Informação</td>\n",
       "      <td>170160</td>\n",
       "      <td>DELEGACIA DA RFB EM PONTA GROSSA</td>\n",
       "      <td>{'nome': 'Ministério da Economia - Unidades co...</td>\n",
       "      <td>***.646.795-**</td>\n",
       "      <td>JOAO VICTOR BARBOSA DE MATOS</td>\n",
       "    </tr>\n",
       "    <tr>\n",
       "      <th>2</th>\n",
       "      <td>2</td>\n",
       "      <td>151023718</td>\n",
       "      <td>04/2019</td>\n",
       "      <td>19/03/2019</td>\n",
       "      <td>609.38</td>\n",
       "      <td>1</td>\n",
       "      <td>1</td>\n",
       "      <td>Cartão de Pagamento do Governo Federal - CPGF</td>\n",
       "      <td>None</td>\n",
       "      <td>M. L. COMERCIO E INDUSTRIA DE ALUMINIO LTDA</td>\n",
       "      <td>...</td>\n",
       "      <td>None</td>\n",
       "      <td>IBIRAPUERA</td>\n",
       "      <td>20.067.580/0001-41</td>\n",
       "      <td>CNPJ</td>\n",
       "      <td>Entidades Empresariais Privadas</td>\n",
       "      <td>153038</td>\n",
       "      <td>UNIVERSIDADE FEDERAL DA BAHIA</td>\n",
       "      <td>{'nome': 'Universidade Federal da Bahia', 'cod...</td>\n",
       "      <td>***.483.205-**</td>\n",
       "      <td>ANTONIO CARLOS SAMPAIO AMARAL</td>\n",
       "    </tr>\n",
       "    <tr>\n",
       "      <th>3</th>\n",
       "      <td>3</td>\n",
       "      <td>151023719</td>\n",
       "      <td>08/2019</td>\n",
       "      <td>09/07/2019</td>\n",
       "      <td>389.60</td>\n",
       "      <td>1</td>\n",
       "      <td>1</td>\n",
       "      <td>Cartão de Pagamento do Governo Federal - CPGF</td>\n",
       "      <td>-1</td>\n",
       "      <td>SEM INFORMACAO</td>\n",
       "      <td>...</td>\n",
       "      <td>None</td>\n",
       "      <td>None</td>\n",
       "      <td>-1</td>\n",
       "      <td>None</td>\n",
       "      <td>Sem Informação</td>\n",
       "      <td>155001</td>\n",
       "      <td>HOSPITAL DE CLINICAS DE PORTO ALEGRE</td>\n",
       "      <td>{'nome': 'Hospital de Clínicas de Porto Alegre...</td>\n",
       "      <td>***.877.890-**</td>\n",
       "      <td>ALROUCIAN SANTOS DA MOTTA</td>\n",
       "    </tr>\n",
       "    <tr>\n",
       "      <th>4</th>\n",
       "      <td>4</td>\n",
       "      <td>151023720</td>\n",
       "      <td>04/2019</td>\n",
       "      <td>13/03/2019</td>\n",
       "      <td>14.99</td>\n",
       "      <td>1</td>\n",
       "      <td>1</td>\n",
       "      <td>Cartão de Pagamento do Governo Federal - CPGF</td>\n",
       "      <td>None</td>\n",
       "      <td>ATACADO DA CONSTRUCAO LTDA</td>\n",
       "      <td>...</td>\n",
       "      <td>None</td>\n",
       "      <td>PINA</td>\n",
       "      <td>35.519.545/0001-93</td>\n",
       "      <td>CNPJ</td>\n",
       "      <td>Entidades Empresariais Privadas</td>\n",
       "      <td>110096</td>\n",
       "      <td>SUPERINTENDENCIA ADMINISTRACAO EM PERNAMBUCO</td>\n",
       "      <td>{'nome': 'Advocacia-Geral da União - Unidades ...</td>\n",
       "      <td>***.449.134-**</td>\n",
       "      <td>SENISE LIRA MONTENEGRO</td>\n",
       "    </tr>\n",
       "  </tbody>\n",
       "</table>\n",
       "<p>5 rows × 32 columns</p>\n",
       "</div>"
      ],
      "text/plain": [
       "   field1       id_x mesExtrato dataTransacao  valorTransacao  id_y  codigo_x  \\\n",
       "0       0  151023716    10/2019    18/09/2019            9.00     1         1   \n",
       "1       1  151023717    09/2019    02/08/2019           20.00     1         1   \n",
       "2       2  151023718    04/2019    19/03/2019          609.38     1         1   \n",
       "3       3  151023719    08/2019    09/07/2019          389.60     1         1   \n",
       "4       4  151023720    04/2019    13/03/2019           14.99     1         1   \n",
       "\n",
       "                                       descricao numeroInscricaoSocial  \\\n",
       "0  Cartão de Pagamento do Governo Federal - CPGF                  None   \n",
       "1  Cartão de Pagamento do Governo Federal - CPGF                    -1   \n",
       "2  Cartão de Pagamento do Governo Federal - CPGF                  None   \n",
       "3  Cartão de Pagamento do Governo Federal - CPGF                    -1   \n",
       "4  Cartão de Pagamento do Governo Federal - CPGF                  None   \n",
       "\n",
       "                                        nome_x  ... numeroCEP  \\\n",
       "0    ZOOP TECNOLOGIA E MEIOS DE PAGAMENTO S.A.  ...      None   \n",
       "1                               SEM INFORMACAO  ...      None   \n",
       "2  M. L. COMERCIO E INDUSTRIA DE ALUMINIO LTDA  ...      None   \n",
       "3                               SEM INFORMACAO  ...      None   \n",
       "4                   ATACADO DA CONSTRUCAO LTDA  ...      None   \n",
       "\n",
       "        nomeBairro   codigoFormatado_x tipoCodigo  \\\n",
       "0  BARRA DA TIJUCA  19.468.242/0001-32       CNPJ   \n",
       "1             None                  -1       None   \n",
       "2       IBIRAPUERA  20.067.580/0001-41       CNPJ   \n",
       "3             None                  -1       None   \n",
       "4             PINA  35.519.545/0001-93       CNPJ   \n",
       "\n",
       "                        tipoPessoa codigo_y  \\\n",
       "0  Entidades Empresariais Privadas   158461   \n",
       "1                   Sem Informação   170160   \n",
       "2  Entidades Empresariais Privadas   153038   \n",
       "3                   Sem Informação   155001   \n",
       "4  Entidades Empresariais Privadas   110096   \n",
       "\n",
       "                                         nome_y  \\\n",
       "0             IF CATARINENSE - CAMPUS CONCÓRDIA   \n",
       "1              DELEGACIA DA RFB EM PONTA GROSSA   \n",
       "2                 UNIVERSIDADE FEDERAL DA BAHIA   \n",
       "3          HOSPITAL DE CLINICAS DE PORTO ALEGRE   \n",
       "4  SUPERINTENDENCIA ADMINISTRACAO EM PERNAMBUCO   \n",
       "\n",
       "                                      orgaoVinculado codigoFormatado_y  \\\n",
       "0  {'nome': 'Instituto Federal Catarinense', 'cod...    ***.857.959-**   \n",
       "1  {'nome': 'Ministério da Economia - Unidades co...    ***.646.795-**   \n",
       "2  {'nome': 'Universidade Federal da Bahia', 'cod...    ***.483.205-**   \n",
       "3  {'nome': 'Hospital de Clínicas de Porto Alegre...    ***.877.890-**   \n",
       "4  {'nome': 'Advocacia-Geral da União - Unidades ...    ***.449.134-**   \n",
       "\n",
       "                            nome  \n",
       "0     HORALDO ANTONIO BRANDALISE  \n",
       "1   JOAO VICTOR BARBOSA DE MATOS  \n",
       "2  ANTONIO CARLOS SAMPAIO AMARAL  \n",
       "3      ALROUCIAN SANTOS DA MOTTA  \n",
       "4         SENISE LIRA MONTENEGRO  \n",
       "\n",
       "[5 rows x 32 columns]"
      ]
     },
     "execution_count": 8,
     "metadata": {},
     "output_type": "execute_result"
    }
   ],
   "source": [
    "df.head()"
   ]
  },
  {
   "cell_type": "code",
   "execution_count": 9,
   "metadata": {},
   "outputs": [
    {
     "name": "stdout",
     "output_type": "stream",
     "text": [
      "<class 'pandas.core.frame.DataFrame'>\n",
      "RangeIndex: 23475 entries, 0 to 23474\n",
      "Data columns (total 32 columns):\n",
      "field1                   23475 non-null int64\n",
      "id_x                     23475 non-null int64\n",
      "mesExtrato               23475 non-null object\n",
      "dataTransacao            23475 non-null object\n",
      "valorTransacao           23475 non-null float64\n",
      "id_y                     23475 non-null int64\n",
      "codigo_x                 23475 non-null int64\n",
      "descricao                23475 non-null object\n",
      "numeroInscricaoSocial    3038 non-null object\n",
      "nome_x                   23475 non-null object\n",
      "razaoSocialReceita       22114 non-null object\n",
      "nomeFantasiaReceita      12152 non-null object\n",
      "cnae                     23475 non-null object\n",
      "municipio                23475 non-null object\n",
      "localidadePessoa         23475 non-null object\n",
      "naturezaJuridica         23475 non-null object\n",
      "dataAbertura             23475 non-null object\n",
      "enderecoEletronico       16097 non-null object\n",
      "numeroTelefone           17851 non-null object\n",
      "descricaoLogradouro      19201 non-null object\n",
      "numeroEndereco           19200 non-null object\n",
      "complementoEndereco      15342 non-null object\n",
      "numeroCEP                0 non-null object\n",
      "nomeBairro               19180 non-null object\n",
      "codigoFormatado_x        23475 non-null object\n",
      "tipoCodigo               20562 non-null object\n",
      "tipoPessoa               23475 non-null object\n",
      "codigo_y                 23475 non-null int64\n",
      "nome_y                   23475 non-null object\n",
      "orgaoVinculado           23475 non-null object\n",
      "codigoFormatado_y        23475 non-null object\n",
      "nome                     23475 non-null object\n",
      "dtypes: float64(1), int64(5), object(26)\n",
      "memory usage: 5.7+ MB\n"
     ]
    }
   ],
   "source": [
    "df.info()"
   ]
  },
  {
   "cell_type": "code",
   "execution_count": 10,
   "metadata": {},
   "outputs": [
    {
     "data": {
      "text/plain": [
       "08/2019    4874\n",
       "06/2019    4751\n",
       "07/2019    4293\n",
       "05/2019    2707\n",
       "11/2019    1373\n",
       "10/2019    1303\n",
       "09/2019    1233\n",
       "12/2019    1221\n",
       "04/2019     815\n",
       "03/2019     728\n",
       "02/2019     177\n",
       "Name: mesExtrato, dtype: int64"
      ]
     },
     "execution_count": 10,
     "metadata": {},
     "output_type": "execute_result"
    }
   ],
   "source": [
    "df[\"mesExtrato\"].value_counts()"
   ]
  },
  {
   "cell_type": "code",
   "execution_count": 11,
   "metadata": {},
   "outputs": [
    {
     "data": {
      "text/plain": [
       "<matplotlib.axes._subplots.AxesSubplot at 0x124456e80>"
      ]
     },
     "execution_count": 11,
     "metadata": {},
     "output_type": "execute_result"
    },
    {
     "data": {
      "image/png": "[encoded data removed]",
      "text/plain": [
       "<Figure size 432x288 with 1 Axes>"
      ]
     },
     "metadata": {
      "needs_background": "light"
     },
     "output_type": "display_data"
    }
   ],
   "source": [
    "df[\"mesExtrato\"].value_counts().plot(kind='bar')"
   ]
  },
  {
   "cell_type": "code",
   "execution_count": 12,
   "metadata": {},
   "outputs": [
    {
     "data": {
      "text/plain": [
       "<matplotlib.axes._subplots.AxesSubplot at 0x1267eb1d0>"
      ]
     },
     "execution_count": 12,
     "metadata": {},
     "output_type": "execute_result"
    },
    {
     "data": {
      "image/png": "[encoded data removed]",
      "text/plain": [
       "<Figure size 432x288 with 1 Axes>"
      ]
     },
     "metadata": {
      "needs_background": "light"
     },
     "output_type": "display_data"
    }
   ],
   "source": [
    "df.groupby([\"mesExtrato\"])[\"valorTransacao\"].sum().sort_values(ascending =False).plot(kind=\"bar\")"
   ]
  },
  {
   "cell_type": "code",
   "execution_count": 13,
   "metadata": {},
   "outputs": [
    {
     "data": {
      "text/plain": [
       "nome                        valorTransacao\n",
       "RUI SOARES PALMEIRA          1000.00          974\n",
       "                            -1000.00           63\n",
       "NAO SE APLICA                1113.36           39\n",
       "                             1775.39           29\n",
       "                             1701.67           29\n",
       "                                             ... \n",
       "                             771.82             1\n",
       "                             771.75             1\n",
       "                             771.59             1\n",
       "                             771.54             1\n",
       "ABELARDO FLORIANO DE PAULO   180.00             1\n",
       "Name: valorTransacao, Length: 16075, dtype: int64"
      ]
     },
     "execution_count": 13,
     "metadata": {},
     "output_type": "execute_result"
    }
   ],
   "source": [
    "df.groupby([\"nome\"])[\"valorTransacao\"].value_counts().sort_values(ascending =False)"
   ]
  },
  {
   "cell_type": "code",
   "execution_count": 14,
   "metadata": {},
   "outputs": [
    {
     "data": {
      "text/plain": [
       "nome\n",
       "NAO SE APLICA                      10441924.87\n",
       "RUI SOARES PALMEIRA                  911500.00\n",
       "ALISSON CESAR MONTEIRO               457246.30\n",
       "JOSE DA SILVA LIMA                   338016.00\n",
       "ULISSES PEREIRA NUNES FILHO          255143.81\n",
       "                                      ...     \n",
       "MARCOS ANTONIO CRUZ RAMOS                 5.00\n",
       "JOAO GONCALVES FILHO                      5.00\n",
       "PAULO HENRIQUE DE SOUZA PIGATTI           4.00\n",
       "TOMAZ AUGUSTO GOULART LUCARINI            1.00\n",
       "LEILA RAQUEL POSSIMOSER BRANDAO           0.85\n",
       "Name: valorTransacao, Length: 3012, dtype: float64"
      ]
     },
     "execution_count": 14,
     "metadata": {},
     "output_type": "execute_result"
    }
   ],
   "source": [
    "df.groupby([\"nome\"])[\"valorTransacao\"].sum().sort_values(ascending =False)"
   ]
  },
  {
   "cell_type": "code",
   "execution_count": 15,
   "metadata": {},
   "outputs": [],
   "source": [
    "df1 = df.groupby('nome').agg({'valorTransacao':'sum'})"
   ]
  },
  {
   "cell_type": "code",
   "execution_count": 16,
   "metadata": {},
   "outputs": [
    {
     "data": {
      "text/html": [
       "<div>\n",
       "<style scoped>\n",
       "    .dataframe tbody tr th:only-of-type {\n",
       "        vertical-align: middle;\n",
       "    }\n",
       "\n",
       "    .dataframe tbody tr th {\n",
       "        vertical-align: top;\n",
       "    }\n",
       "\n",
       "    .dataframe thead th {\n",
       "        text-align: right;\n",
       "    }\n",
       "</style>\n",
       "<table border=\"1\" class=\"dataframe\">\n",
       "  <thead>\n",
       "    <tr style=\"text-align: right;\">\n",
       "      <th></th>\n",
       "      <th>nome</th>\n",
       "      <th>valorTransacao</th>\n",
       "    </tr>\n",
       "  </thead>\n",
       "  <tbody>\n",
       "    <tr>\n",
       "      <th>0</th>\n",
       "      <td>ABELARDO FLORIANO DE PAULO</td>\n",
       "      <td>180.00</td>\n",
       "    </tr>\n",
       "    <tr>\n",
       "      <th>1</th>\n",
       "      <td>ADAILSON ROSA DE OLIVEIRA</td>\n",
       "      <td>212.02</td>\n",
       "    </tr>\n",
       "    <tr>\n",
       "      <th>2</th>\n",
       "      <td>ADALBERTO DOS SANTOS</td>\n",
       "      <td>1230.00</td>\n",
       "    </tr>\n",
       "    <tr>\n",
       "      <th>3</th>\n",
       "      <td>ADALBERTO MIRANDA JARDIM</td>\n",
       "      <td>250.00</td>\n",
       "    </tr>\n",
       "    <tr>\n",
       "      <th>4</th>\n",
       "      <td>ADALTIVO FARIAS SIQUARA FILHO</td>\n",
       "      <td>1998.00</td>\n",
       "    </tr>\n",
       "  </tbody>\n",
       "</table>\n",
       "</div>"
      ],
      "text/plain": [
       "                            nome  valorTransacao\n",
       "0     ABELARDO FLORIANO DE PAULO          180.00\n",
       "1      ADAILSON ROSA DE OLIVEIRA          212.02\n",
       "2           ADALBERTO DOS SANTOS         1230.00\n",
       "3       ADALBERTO MIRANDA JARDIM          250.00\n",
       "4  ADALTIVO FARIAS SIQUARA FILHO         1998.00"
      ]
     },
     "execution_count": 16,
     "metadata": {},
     "output_type": "execute_result"
    }
   ],
   "source": [
    "df1 = df1.reset_index()\n",
    "df1.head()"
   ]
  },
  {
   "cell_type": "code",
   "execution_count": 17,
   "metadata": {},
   "outputs": [
    {
     "data": {
      "text/html": [
       "<div>\n",
       "<style scoped>\n",
       "    .dataframe tbody tr th:only-of-type {\n",
       "        vertical-align: middle;\n",
       "    }\n",
       "\n",
       "    .dataframe tbody tr th {\n",
       "        vertical-align: top;\n",
       "    }\n",
       "\n",
       "    .dataframe thead th {\n",
       "        text-align: right;\n",
       "    }\n",
       "</style>\n",
       "<table border=\"1\" class=\"dataframe\">\n",
       "  <thead>\n",
       "    <tr style=\"text-align: right;\">\n",
       "      <th></th>\n",
       "      <th>count</th>\n",
       "      <th>mean</th>\n",
       "      <th>std</th>\n",
       "      <th>min</th>\n",
       "      <th>25%</th>\n",
       "      <th>50%</th>\n",
       "      <th>75%</th>\n",
       "      <th>max</th>\n",
       "    </tr>\n",
       "  </thead>\n",
       "  <tbody>\n",
       "    <tr>\n",
       "      <th>valorTransacao</th>\n",
       "      <td>3012.0</td>\n",
       "      <td>5441.252712</td>\n",
       "      <td>191406.534936</td>\n",
       "      <td>0.85</td>\n",
       "      <td>186.61</td>\n",
       "      <td>478.535</td>\n",
       "      <td>1079.2875</td>\n",
       "      <td>10441924.87</td>\n",
       "    </tr>\n",
       "  </tbody>\n",
       "</table>\n",
       "</div>"
      ],
      "text/plain": [
       "                 count         mean            std   min     25%      50%  \\\n",
       "valorTransacao  3012.0  5441.252712  191406.534936  0.85  186.61  478.535   \n",
       "\n",
       "                      75%          max  \n",
       "valorTransacao  1079.2875  10441924.87  "
      ]
     },
     "execution_count": 17,
     "metadata": {},
     "output_type": "execute_result"
    }
   ],
   "source": [
    "df1.describe().T"
   ]
  },
  {
   "cell_type": "code",
   "execution_count": 18,
   "metadata": {},
   "outputs": [
    {
     "data": {
      "text/html": [
       "<div>\n",
       "<style scoped>\n",
       "    .dataframe tbody tr th:only-of-type {\n",
       "        vertical-align: middle;\n",
       "    }\n",
       "\n",
       "    .dataframe tbody tr th {\n",
       "        vertical-align: top;\n",
       "    }\n",
       "\n",
       "    .dataframe thead th {\n",
       "        text-align: right;\n",
       "    }\n",
       "</style>\n",
       "<table border=\"1\" class=\"dataframe\">\n",
       "  <thead>\n",
       "    <tr style=\"text-align: right;\">\n",
       "      <th></th>\n",
       "      <th>nome</th>\n",
       "      <th>valorTransacao</th>\n",
       "    </tr>\n",
       "  </thead>\n",
       "  <tbody>\n",
       "    <tr>\n",
       "      <th>156</th>\n",
       "      <td>ALISSON CESAR MONTEIRO</td>\n",
       "      <td>457246.30</td>\n",
       "    </tr>\n",
       "    <tr>\n",
       "      <th>1548</th>\n",
       "      <td>JOSE DA SILVA LIMA</td>\n",
       "      <td>338016.00</td>\n",
       "    </tr>\n",
       "    <tr>\n",
       "      <th>1599</th>\n",
       "      <td>JOSE MARCILIO GUIMARAES CAVALCANTE</td>\n",
       "      <td>216019.00</td>\n",
       "    </tr>\n",
       "    <tr>\n",
       "      <th>2253</th>\n",
       "      <td>NAO SE APLICA</td>\n",
       "      <td>10441924.87</td>\n",
       "    </tr>\n",
       "    <tr>\n",
       "      <th>2652</th>\n",
       "      <td>RUI SOARES PALMEIRA</td>\n",
       "      <td>911500.00</td>\n",
       "    </tr>\n",
       "  </tbody>\n",
       "</table>\n",
       "</div>"
      ],
      "text/plain": [
       "                                    nome  valorTransacao\n",
       "156               ALISSON CESAR MONTEIRO       457246.30\n",
       "1548                  JOSE DA SILVA LIMA       338016.00\n",
       "1599  JOSE MARCILIO GUIMARAES CAVALCANTE       216019.00\n",
       "2253                       NAO SE APLICA     10441924.87\n",
       "2652                 RUI SOARES PALMEIRA       911500.00"
      ]
     },
     "execution_count": 18,
     "metadata": {},
     "output_type": "execute_result"
    }
   ],
   "source": [
    "df1_maior_200k = df1[df1['valorTransacao'] >= 200000]\n",
    "df1_maior_200k.head()"
   ]
  },
  {
   "cell_type": "code",
   "execution_count": 19,
   "metadata": {},
   "outputs": [],
   "source": [
    "df1_maior_200k= df1_maior_200k.drop(2253)"
   ]
  },
  {
   "cell_type": "code",
   "execution_count": 20,
   "metadata": {},
   "outputs": [
    {
     "data": {
      "image/png": "[encoded data removed]",
      "text/plain": [
       "<Figure size 1440x576 with 1 Axes>"
      ]
     },
     "metadata": {
      "needs_background": "light"
     },
     "output_type": "display_data"
    }
   ],
   "source": [
    "plt.figure(figsize=(20,8))\n",
    "plt.title(\"Gastos Maior 200.000\")\n",
    "sns.barplot(x=\"nome\", y=\"valorTransacao\", data=df1_maior_200k, palette='Blues');"
   ]
  },
  {
   "cell_type": "code",
   "execution_count": 21,
   "metadata": {},
   "outputs": [
    {
     "data": {
      "text/plain": [
       "nome                        valorTransacao\n",
       "RUI SOARES PALMEIRA          1000.00          974\n",
       "                            -1000.00           63\n",
       "NAO SE APLICA                1113.36           39\n",
       "                             1775.39           29\n",
       "                             1701.67           29\n",
       "                                             ... \n",
       "                             771.82             1\n",
       "                             771.75             1\n",
       "                             771.59             1\n",
       "                             771.54             1\n",
       "ABELARDO FLORIANO DE PAULO   180.00             1\n",
       "Name: valorTransacao, Length: 16075, dtype: int64"
      ]
     },
     "execution_count": 21,
     "metadata": {},
     "output_type": "execute_result"
    }
   ],
   "source": [
    "df.groupby([\"nome\"])[\"valorTransacao\"].value_counts().sort_values(ascending =False)"
   ]
  },
  {
   "cell_type": "code",
   "execution_count": 22,
   "metadata": {},
   "outputs": [],
   "source": [
    "df2 = df.groupby('nome').agg({'valorTransacao':'value_counts'})"
   ]
  },
  {
   "cell_type": "code",
   "execution_count": 23,
   "metadata": {},
   "outputs": [
    {
     "data": {
      "text/html": [
       "<div>\n",
       "<style scoped>\n",
       "    .dataframe tbody tr th:only-of-type {\n",
       "        vertical-align: middle;\n",
       "    }\n",
       "\n",
       "    .dataframe tbody tr th {\n",
       "        vertical-align: top;\n",
       "    }\n",
       "\n",
       "    .dataframe thead th {\n",
       "        text-align: right;\n",
       "    }\n",
       "</style>\n",
       "<table border=\"1\" class=\"dataframe\">\n",
       "  <thead>\n",
       "    <tr style=\"text-align: right;\">\n",
       "      <th></th>\n",
       "      <th></th>\n",
       "      <th>valorTransacao</th>\n",
       "    </tr>\n",
       "    <tr>\n",
       "      <th>nome</th>\n",
       "      <th>valorTransacao</th>\n",
       "      <th></th>\n",
       "    </tr>\n",
       "  </thead>\n",
       "  <tbody>\n",
       "    <tr>\n",
       "      <th>ABELARDO FLORIANO DE PAULO</th>\n",
       "      <th>180.00</th>\n",
       "      <td>1</td>\n",
       "    </tr>\n",
       "    <tr>\n",
       "      <th>ADAILSON ROSA DE OLIVEIRA</th>\n",
       "      <th>212.02</th>\n",
       "      <td>1</td>\n",
       "    </tr>\n",
       "    <tr>\n",
       "      <th rowspan=\"2\" valign=\"top\">ADALBERTO DOS SANTOS</th>\n",
       "      <th>430.00</th>\n",
       "      <td>1</td>\n",
       "    </tr>\n",
       "    <tr>\n",
       "      <th>800.00</th>\n",
       "      <td>1</td>\n",
       "    </tr>\n",
       "    <tr>\n",
       "      <th>ADALBERTO MIRANDA JARDIM</th>\n",
       "      <th>100.00</th>\n",
       "      <td>1</td>\n",
       "    </tr>\n",
       "  </tbody>\n",
       "</table>\n",
       "</div>"
      ],
      "text/plain": [
       "                                           valorTransacao\n",
       "nome                       valorTransacao                \n",
       "ABELARDO FLORIANO DE PAULO 180.00                       1\n",
       "ADAILSON ROSA DE OLIVEIRA  212.02                       1\n",
       "ADALBERTO DOS SANTOS       430.00                       1\n",
       "                           800.00                       1\n",
       "ADALBERTO MIRANDA JARDIM   100.00                       1"
      ]
     },
     "execution_count": 23,
     "metadata": {},
     "output_type": "execute_result"
    }
   ],
   "source": [
    "df2.head()"
   ]
  },
  {
   "cell_type": "code",
   "execution_count": 24,
   "metadata": {},
   "outputs": [
    {
     "data": {
      "text/html": [
       "<div>\n",
       "<style scoped>\n",
       "    .dataframe tbody tr th:only-of-type {\n",
       "        vertical-align: middle;\n",
       "    }\n",
       "\n",
       "    .dataframe tbody tr th {\n",
       "        vertical-align: top;\n",
       "    }\n",
       "\n",
       "    .dataframe thead th {\n",
       "        text-align: right;\n",
       "    }\n",
       "</style>\n",
       "<table border=\"1\" class=\"dataframe\">\n",
       "  <thead>\n",
       "    <tr style=\"text-align: right;\">\n",
       "      <th></th>\n",
       "      <th>count</th>\n",
       "      <th>mean</th>\n",
       "      <th>std</th>\n",
       "      <th>min</th>\n",
       "      <th>25%</th>\n",
       "      <th>50%</th>\n",
       "      <th>75%</th>\n",
       "      <th>max</th>\n",
       "    </tr>\n",
       "  </thead>\n",
       "  <tbody>\n",
       "    <tr>\n",
       "      <th>valorTransacao</th>\n",
       "      <td>16075.0</td>\n",
       "      <td>1.460342</td>\n",
       "      <td>7.830311</td>\n",
       "      <td>1.0</td>\n",
       "      <td>1.0</td>\n",
       "      <td>1.0</td>\n",
       "      <td>1.0</td>\n",
       "      <td>974.0</td>\n",
       "    </tr>\n",
       "  </tbody>\n",
       "</table>\n",
       "</div>"
      ],
      "text/plain": [
       "                  count      mean       std  min  25%  50%  75%    max\n",
       "valorTransacao  16075.0  1.460342  7.830311  1.0  1.0  1.0  1.0  974.0"
      ]
     },
     "execution_count": 24,
     "metadata": {},
     "output_type": "execute_result"
    }
   ],
   "source": [
    "df2.describe().T"
   ]
  },
  {
   "cell_type": "code",
   "execution_count": 25,
   "metadata": {},
   "outputs": [
    {
     "data": {
      "text/html": [
       "<div>\n",
       "<style scoped>\n",
       "    .dataframe tbody tr th:only-of-type {\n",
       "        vertical-align: middle;\n",
       "    }\n",
       "\n",
       "    .dataframe tbody tr th {\n",
       "        vertical-align: top;\n",
       "    }\n",
       "\n",
       "    .dataframe thead th {\n",
       "        text-align: right;\n",
       "    }\n",
       "</style>\n",
       "<table border=\"1\" class=\"dataframe\">\n",
       "  <thead>\n",
       "    <tr style=\"text-align: right;\">\n",
       "      <th></th>\n",
       "      <th></th>\n",
       "      <th>valorTransacao</th>\n",
       "    </tr>\n",
       "    <tr>\n",
       "      <th>nome</th>\n",
       "      <th>valorTransacao</th>\n",
       "      <th></th>\n",
       "    </tr>\n",
       "  </thead>\n",
       "  <tbody>\n",
       "    <tr>\n",
       "      <th rowspan=\"2\" valign=\"top\">RUI SOARES PALMEIRA</th>\n",
       "      <th>1000.0</th>\n",
       "      <td>974</td>\n",
       "    </tr>\n",
       "    <tr>\n",
       "      <th>-1000.0</th>\n",
       "      <td>63</td>\n",
       "    </tr>\n",
       "  </tbody>\n",
       "</table>\n",
       "</div>"
      ],
      "text/plain": [
       "                                    valorTransacao\n",
       "nome                valorTransacao                \n",
       "RUI SOARES PALMEIRA  1000.0                    974\n",
       "                    -1000.0                     63"
      ]
     },
     "execution_count": 25,
     "metadata": {},
     "output_type": "execute_result"
    }
   ],
   "source": [
    "df2_maior_100 = df2[df2['valorTransacao'] >= 50]\n",
    "df2_maior_100.head()"
   ]
  },
  {
   "cell_type": "code",
   "execution_count": 26,
   "metadata": {},
   "outputs": [
    {
     "data": {
      "text/plain": [
       "(2, 1)"
      ]
     },
     "execution_count": 26,
     "metadata": {},
     "output_type": "execute_result"
    }
   ],
   "source": [
    "df2_maior_100.shape"
   ]
  },
  {
   "cell_type": "code",
   "execution_count": 41,
   "metadata": {},
   "outputs": [
    {
     "data": {
      "text/html": [
       "<div>\n",
       "<style scoped>\n",
       "    .dataframe tbody tr th:only-of-type {\n",
       "        vertical-align: middle;\n",
       "    }\n",
       "\n",
       "    .dataframe tbody tr th {\n",
       "        vertical-align: top;\n",
       "    }\n",
       "\n",
       "    .dataframe thead th {\n",
       "        text-align: right;\n",
       "    }\n",
       "</style>\n",
       "<table border=\"1\" class=\"dataframe\">\n",
       "  <thead>\n",
       "    <tr style=\"text-align: right;\">\n",
       "      <th></th>\n",
       "      <th>nome</th>\n",
       "      <th>nome_x</th>\n",
       "      <th>razaoSocialReceita</th>\n",
       "      <th>mesExtrato</th>\n",
       "      <th>dataTransacao</th>\n",
       "      <th>valorTransacao</th>\n",
       "      <th>municipio</th>\n",
       "      <th>orgaoVinculado</th>\n",
       "      <th>codigoFormatado_x</th>\n",
       "    </tr>\n",
       "  </thead>\n",
       "  <tbody>\n",
       "    <tr>\n",
       "      <th>0</th>\n",
       "      <td>HORALDO ANTONIO BRANDALISE</td>\n",
       "      <td>ZOOP TECNOLOGIA E MEIOS DE PAGAMENTO S.A.</td>\n",
       "      <td>ZOOP TECNOLOGIA E MEIOS DE PAGAMENTO S.A.</td>\n",
       "      <td>10/2019</td>\n",
       "      <td>18/09/2019</td>\n",
       "      <td>9.00</td>\n",
       "      <td>{'codigoIBGE': '3304557', 'nomeIBGE': 'RIO DE ...</td>\n",
       "      <td>{'nome': 'Instituto Federal Catarinense', 'cod...</td>\n",
       "      <td>19.468.242/0001-32</td>\n",
       "    </tr>\n",
       "    <tr>\n",
       "      <th>1</th>\n",
       "      <td>JOAO VICTOR BARBOSA DE MATOS</td>\n",
       "      <td>SEM INFORMACAO</td>\n",
       "      <td>Sem informação</td>\n",
       "      <td>09/2019</td>\n",
       "      <td>02/08/2019</td>\n",
       "      <td>20.00</td>\n",
       "      <td>{'codigoIBGE': '-1', 'nomeIBGE': 'Sem Informaç...</td>\n",
       "      <td>{'nome': 'Ministério da Economia - Unidades co...</td>\n",
       "      <td>-1</td>\n",
       "    </tr>\n",
       "    <tr>\n",
       "      <th>2</th>\n",
       "      <td>ANTONIO CARLOS SAMPAIO AMARAL</td>\n",
       "      <td>M. L. COMERCIO E INDUSTRIA DE ALUMINIO LTDA</td>\n",
       "      <td>M. L. COMERCIO E INDUSTRIA DE ALUMINIO LTDA</td>\n",
       "      <td>04/2019</td>\n",
       "      <td>19/03/2019</td>\n",
       "      <td>609.38</td>\n",
       "      <td>{'codigoIBGE': '2933307', 'nomeIBGE': 'VITÓRIA...</td>\n",
       "      <td>{'nome': 'Universidade Federal da Bahia', 'cod...</td>\n",
       "      <td>20.067.580/0001-41</td>\n",
       "    </tr>\n",
       "    <tr>\n",
       "      <th>3</th>\n",
       "      <td>ALROUCIAN SANTOS DA MOTTA</td>\n",
       "      <td>SEM INFORMACAO</td>\n",
       "      <td>Sem informação</td>\n",
       "      <td>08/2019</td>\n",
       "      <td>09/07/2019</td>\n",
       "      <td>389.60</td>\n",
       "      <td>{'codigoIBGE': '-1', 'nomeIBGE': 'Sem Informaç...</td>\n",
       "      <td>{'nome': 'Hospital de Clínicas de Porto Alegre...</td>\n",
       "      <td>-1</td>\n",
       "    </tr>\n",
       "    <tr>\n",
       "      <th>4</th>\n",
       "      <td>SENISE LIRA MONTENEGRO</td>\n",
       "      <td>ATACADO DA CONSTRUCAO LTDA</td>\n",
       "      <td>ATACADO DA CONSTRUCAO LTDA</td>\n",
       "      <td>04/2019</td>\n",
       "      <td>13/03/2019</td>\n",
       "      <td>14.99</td>\n",
       "      <td>{'codigoIBGE': '2611606', 'nomeIBGE': 'RECIFE'...</td>\n",
       "      <td>{'nome': 'Advocacia-Geral da União - Unidades ...</td>\n",
       "      <td>35.519.545/0001-93</td>\n",
       "    </tr>\n",
       "  </tbody>\n",
       "</table>\n",
       "</div>"
      ],
      "text/plain": [
       "                            nome                                       nome_x  \\\n",
       "0     HORALDO ANTONIO BRANDALISE    ZOOP TECNOLOGIA E MEIOS DE PAGAMENTO S.A.   \n",
       "1   JOAO VICTOR BARBOSA DE MATOS                               SEM INFORMACAO   \n",
       "2  ANTONIO CARLOS SAMPAIO AMARAL  M. L. COMERCIO E INDUSTRIA DE ALUMINIO LTDA   \n",
       "3      ALROUCIAN SANTOS DA MOTTA                               SEM INFORMACAO   \n",
       "4         SENISE LIRA MONTENEGRO                   ATACADO DA CONSTRUCAO LTDA   \n",
       "\n",
       "                            razaoSocialReceita mesExtrato dataTransacao  \\\n",
       "0    ZOOP TECNOLOGIA E MEIOS DE PAGAMENTO S.A.    10/2019    18/09/2019   \n",
       "1                               Sem informação    09/2019    02/08/2019   \n",
       "2  M. L. COMERCIO E INDUSTRIA DE ALUMINIO LTDA    04/2019    19/03/2019   \n",
       "3                               Sem informação    08/2019    09/07/2019   \n",
       "4                   ATACADO DA CONSTRUCAO LTDA    04/2019    13/03/2019   \n",
       "\n",
       "   valorTransacao                                          municipio  \\\n",
       "0            9.00  {'codigoIBGE': '3304557', 'nomeIBGE': 'RIO DE ...   \n",
       "1           20.00  {'codigoIBGE': '-1', 'nomeIBGE': 'Sem Informaç...   \n",
       "2          609.38  {'codigoIBGE': '2933307', 'nomeIBGE': 'VITÓRIA...   \n",
       "3          389.60  {'codigoIBGE': '-1', 'nomeIBGE': 'Sem Informaç...   \n",
       "4           14.99  {'codigoIBGE': '2611606', 'nomeIBGE': 'RECIFE'...   \n",
       "\n",
       "                                      orgaoVinculado   codigoFormatado_x  \n",
       "0  {'nome': 'Instituto Federal Catarinense', 'cod...  19.468.242/0001-32  \n",
       "1  {'nome': 'Ministério da Economia - Unidades co...                  -1  \n",
       "2  {'nome': 'Universidade Federal da Bahia', 'cod...  20.067.580/0001-41  \n",
       "3  {'nome': 'Hospital de Clínicas de Porto Alegre...                  -1  \n",
       "4  {'nome': 'Advocacia-Geral da União - Unidades ...  35.519.545/0001-93  "
      ]
     },
     "execution_count": 41,
     "metadata": {},
     "output_type": "execute_result"
    }
   ],
   "source": [
    "df_Rui= df[[\"nome\",\"nome_x\",\"razaoSocialReceita\",\"mesExtrato\",\"dataTransacao\", \"valorTransacao\",\"municipio\",\"orgaoVinculado\",\"codigoFormatado_x\"]].copy()\n",
    "df_Rui.head()"
   ]
  },
  {
   "cell_type": "code",
   "execution_count": 42,
   "metadata": {},
   "outputs": [
    {
     "data": {
      "text/plain": [
       "nome                        valorTransacao\n",
       "RUI SOARES PALMEIRA          1000.00          974\n",
       "                            -1000.00           63\n",
       "NAO SE APLICA                1113.36           39\n",
       "                             1775.39           29\n",
       "                             1701.67           29\n",
       "                                             ... \n",
       "                             771.82             1\n",
       "                             771.75             1\n",
       "                             771.59             1\n",
       "                             771.54             1\n",
       "ABELARDO FLORIANO DE PAULO   180.00             1\n",
       "Name: valorTransacao, Length: 16075, dtype: int64"
      ]
     },
     "execution_count": 42,
     "metadata": {},
     "output_type": "execute_result"
    }
   ],
   "source": [
    "df_Rui.groupby([\"nome\"])[\"valorTransacao\"].value_counts().sort_values(ascending =False)"
   ]
  },
  {
   "cell_type": "code",
   "execution_count": 43,
   "metadata": {},
   "outputs": [],
   "source": [
    "df_Rui[\"nome\"] = df_Rui[\"nome\"].astype(str)"
   ]
  },
  {
   "cell_type": "code",
   "execution_count": 44,
   "metadata": {},
   "outputs": [],
   "source": [
    "df_Rui[\"nome\"] = df_Rui[\"nome\"].str.replace('/',' ')"
   ]
  },
  {
   "cell_type": "code",
   "execution_count": 45,
   "metadata": {},
   "outputs": [],
   "source": [
    "df_Rui[\"nome\"]= df_Rui[\"nome\"].str.replace(\" \", \"_\")"
   ]
  },
  {
   "cell_type": "code",
   "execution_count": 46,
   "metadata": {},
   "outputs": [
    {
     "data": {
      "text/html": [
       "<div>\n",
       "<style scoped>\n",
       "    .dataframe tbody tr th:only-of-type {\n",
       "        vertical-align: middle;\n",
       "    }\n",
       "\n",
       "    .dataframe tbody tr th {\n",
       "        vertical-align: top;\n",
       "    }\n",
       "\n",
       "    .dataframe thead th {\n",
       "        text-align: right;\n",
       "    }\n",
       "</style>\n",
       "<table border=\"1\" class=\"dataframe\">\n",
       "  <thead>\n",
       "    <tr style=\"text-align: right;\">\n",
       "      <th></th>\n",
       "      <th>nome</th>\n",
       "      <th>nome_x</th>\n",
       "      <th>razaoSocialReceita</th>\n",
       "      <th>mesExtrato</th>\n",
       "      <th>dataTransacao</th>\n",
       "      <th>valorTransacao</th>\n",
       "      <th>municipio</th>\n",
       "      <th>orgaoVinculado</th>\n",
       "      <th>codigoFormatado_x</th>\n",
       "    </tr>\n",
       "  </thead>\n",
       "  <tbody>\n",
       "    <tr>\n",
       "      <th>0</th>\n",
       "      <td>HORALDO_ANTONIO_BRANDALISE</td>\n",
       "      <td>ZOOP TECNOLOGIA E MEIOS DE PAGAMENTO S.A.</td>\n",
       "      <td>ZOOP TECNOLOGIA E MEIOS DE PAGAMENTO S.A.</td>\n",
       "      <td>10/2019</td>\n",
       "      <td>18/09/2019</td>\n",
       "      <td>9.00</td>\n",
       "      <td>{'codigoIBGE': '3304557', 'nomeIBGE': 'RIO DE ...</td>\n",
       "      <td>{'nome': 'Instituto Federal Catarinense', 'cod...</td>\n",
       "      <td>19.468.242/0001-32</td>\n",
       "    </tr>\n",
       "    <tr>\n",
       "      <th>1</th>\n",
       "      <td>JOAO_VICTOR_BARBOSA_DE_MATOS</td>\n",
       "      <td>SEM INFORMACAO</td>\n",
       "      <td>Sem informação</td>\n",
       "      <td>09/2019</td>\n",
       "      <td>02/08/2019</td>\n",
       "      <td>20.00</td>\n",
       "      <td>{'codigoIBGE': '-1', 'nomeIBGE': 'Sem Informaç...</td>\n",
       "      <td>{'nome': 'Ministério da Economia - Unidades co...</td>\n",
       "      <td>-1</td>\n",
       "    </tr>\n",
       "    <tr>\n",
       "      <th>2</th>\n",
       "      <td>ANTONIO_CARLOS_SAMPAIO_AMARAL</td>\n",
       "      <td>M. L. COMERCIO E INDUSTRIA DE ALUMINIO LTDA</td>\n",
       "      <td>M. L. COMERCIO E INDUSTRIA DE ALUMINIO LTDA</td>\n",
       "      <td>04/2019</td>\n",
       "      <td>19/03/2019</td>\n",
       "      <td>609.38</td>\n",
       "      <td>{'codigoIBGE': '2933307', 'nomeIBGE': 'VITÓRIA...</td>\n",
       "      <td>{'nome': 'Universidade Federal da Bahia', 'cod...</td>\n",
       "      <td>20.067.580/0001-41</td>\n",
       "    </tr>\n",
       "    <tr>\n",
       "      <th>3</th>\n",
       "      <td>ALROUCIAN_SANTOS_DA_MOTTA</td>\n",
       "      <td>SEM INFORMACAO</td>\n",
       "      <td>Sem informação</td>\n",
       "      <td>08/2019</td>\n",
       "      <td>09/07/2019</td>\n",
       "      <td>389.60</td>\n",
       "      <td>{'codigoIBGE': '-1', 'nomeIBGE': 'Sem Informaç...</td>\n",
       "      <td>{'nome': 'Hospital de Clínicas de Porto Alegre...</td>\n",
       "      <td>-1</td>\n",
       "    </tr>\n",
       "    <tr>\n",
       "      <th>4</th>\n",
       "      <td>SENISE_LIRA_MONTENEGRO</td>\n",
       "      <td>ATACADO DA CONSTRUCAO LTDA</td>\n",
       "      <td>ATACADO DA CONSTRUCAO LTDA</td>\n",
       "      <td>04/2019</td>\n",
       "      <td>13/03/2019</td>\n",
       "      <td>14.99</td>\n",
       "      <td>{'codigoIBGE': '2611606', 'nomeIBGE': 'RECIFE'...</td>\n",
       "      <td>{'nome': 'Advocacia-Geral da União - Unidades ...</td>\n",
       "      <td>35.519.545/0001-93</td>\n",
       "    </tr>\n",
       "  </tbody>\n",
       "</table>\n",
       "</div>"
      ],
      "text/plain": [
       "                            nome                                       nome_x  \\\n",
       "0     HORALDO_ANTONIO_BRANDALISE    ZOOP TECNOLOGIA E MEIOS DE PAGAMENTO S.A.   \n",
       "1   JOAO_VICTOR_BARBOSA_DE_MATOS                               SEM INFORMACAO   \n",
       "2  ANTONIO_CARLOS_SAMPAIO_AMARAL  M. L. COMERCIO E INDUSTRIA DE ALUMINIO LTDA   \n",
       "3      ALROUCIAN_SANTOS_DA_MOTTA                               SEM INFORMACAO   \n",
       "4         SENISE_LIRA_MONTENEGRO                   ATACADO DA CONSTRUCAO LTDA   \n",
       "\n",
       "                            razaoSocialReceita mesExtrato dataTransacao  \\\n",
       "0    ZOOP TECNOLOGIA E MEIOS DE PAGAMENTO S.A.    10/2019    18/09/2019   \n",
       "1                               Sem informação    09/2019    02/08/2019   \n",
       "2  M. L. COMERCIO E INDUSTRIA DE ALUMINIO LTDA    04/2019    19/03/2019   \n",
       "3                               Sem informação    08/2019    09/07/2019   \n",
       "4                   ATACADO DA CONSTRUCAO LTDA    04/2019    13/03/2019   \n",
       "\n",
       "   valorTransacao                                          municipio  \\\n",
       "0            9.00  {'codigoIBGE': '3304557', 'nomeIBGE': 'RIO DE ...   \n",
       "1           20.00  {'codigoIBGE': '-1', 'nomeIBGE': 'Sem Informaç...   \n",
       "2          609.38  {'codigoIBGE': '2933307', 'nomeIBGE': 'VITÓRIA...   \n",
       "3          389.60  {'codigoIBGE': '-1', 'nomeIBGE': 'Sem Informaç...   \n",
       "4           14.99  {'codigoIBGE': '2611606', 'nomeIBGE': 'RECIFE'...   \n",
       "\n",
       "                                      orgaoVinculado   codigoFormatado_x  \n",
       "0  {'nome': 'Instituto Federal Catarinense', 'cod...  19.468.242/0001-32  \n",
       "1  {'nome': 'Ministério da Economia - Unidades co...                  -1  \n",
       "2  {'nome': 'Universidade Federal da Bahia', 'cod...  20.067.580/0001-41  \n",
       "3  {'nome': 'Hospital de Clínicas de Porto Alegre...                  -1  \n",
       "4  {'nome': 'Advocacia-Geral da União - Unidades ...  35.519.545/0001-93  "
      ]
     },
     "execution_count": 46,
     "metadata": {},
     "output_type": "execute_result"
    }
   ],
   "source": [
    "df_Rui.head()"
   ]
  },
  {
   "cell_type": "code",
   "execution_count": 47,
   "metadata": {},
   "outputs": [],
   "source": [
    "df_Rui[\"nome\"]= df_Rui.loc[df_Rui[\"nome\"] == 'RUI_SOARES_PALMEIRA']"
   ]
  },
  {
   "cell_type": "code",
   "execution_count": 48,
   "metadata": {},
   "outputs": [
    {
     "name": "stdout",
     "output_type": "stream",
     "text": [
      "<class 'pandas.core.frame.DataFrame'>\n",
      "RangeIndex: 23475 entries, 0 to 23474\n",
      "Data columns (total 9 columns):\n",
      "nome                  1038 non-null object\n",
      "nome_x                23475 non-null object\n",
      "razaoSocialReceita    22114 non-null object\n",
      "mesExtrato            23475 non-null object\n",
      "dataTransacao         23475 non-null object\n",
      "valorTransacao        23475 non-null float64\n",
      "municipio             23475 non-null object\n",
      "orgaoVinculado        23475 non-null object\n",
      "codigoFormatado_x     23475 non-null object\n",
      "dtypes: float64(1), object(8)\n",
      "memory usage: 1.6+ MB\n"
     ]
    }
   ],
   "source": [
    "df_Rui_modificado= df_Rui[[\"nome\",\"nome_x\",\"razaoSocialReceita\",\"mesExtrato\",\"dataTransacao\", \"valorTransacao\",\"municipio\",\"orgaoVinculado\",\"codigoFormatado_x\"]].copy()\n",
    "df_Rui.info()"
   ]
  },
  {
   "cell_type": "code",
   "execution_count": 49,
   "metadata": {},
   "outputs": [],
   "source": [
    "df_Rui_modificado= df_Rui_modificado.dropna(subset=[\"nome\"])"
   ]
  },
  {
   "cell_type": "code",
   "execution_count": 50,
   "metadata": {},
   "outputs": [
    {
     "name": "stdout",
     "output_type": "stream",
     "text": [
      "<class 'pandas.core.frame.DataFrame'>\n",
      "Int64Index: 1038 entries, 1425 to 23440\n",
      "Data columns (total 9 columns):\n",
      "nome                  1038 non-null object\n",
      "nome_x                1038 non-null object\n",
      "razaoSocialReceita    1 non-null object\n",
      "mesExtrato            1038 non-null object\n",
      "dataTransacao         1038 non-null object\n",
      "valorTransacao        1038 non-null float64\n",
      "municipio             1038 non-null object\n",
      "orgaoVinculado        1038 non-null object\n",
      "codigoFormatado_x     1038 non-null object\n",
      "dtypes: float64(1), object(8)\n",
      "memory usage: 81.1+ KB\n"
     ]
    }
   ],
   "source": [
    "df_Rui_modificado.info()"
   ]
  },
  {
   "cell_type": "code",
   "execution_count": 51,
   "metadata": {},
   "outputs": [
    {
     "data": {
      "text/html": [
       "<div>\n",
       "<style scoped>\n",
       "    .dataframe tbody tr th:only-of-type {\n",
       "        vertical-align: middle;\n",
       "    }\n",
       "\n",
       "    .dataframe tbody tr th {\n",
       "        vertical-align: top;\n",
       "    }\n",
       "\n",
       "    .dataframe thead th {\n",
       "        text-align: right;\n",
       "    }\n",
       "</style>\n",
       "<table border=\"1\" class=\"dataframe\">\n",
       "  <thead>\n",
       "    <tr style=\"text-align: right;\">\n",
       "      <th></th>\n",
       "      <th>nome</th>\n",
       "      <th>nome_x</th>\n",
       "      <th>razaoSocialReceita</th>\n",
       "      <th>mesExtrato</th>\n",
       "      <th>dataTransacao</th>\n",
       "      <th>valorTransacao</th>\n",
       "      <th>municipio</th>\n",
       "      <th>orgaoVinculado</th>\n",
       "      <th>codigoFormatado_x</th>\n",
       "    </tr>\n",
       "  </thead>\n",
       "  <tbody>\n",
       "    <tr>\n",
       "      <th>1425</th>\n",
       "      <td>RUI_SOARES_PALMEIRA</td>\n",
       "      <td>POLLANY CAVALCANTE FERREIRA</td>\n",
       "      <td>None</td>\n",
       "      <td>11/2019</td>\n",
       "      <td>23/10/2019</td>\n",
       "      <td>1000.0</td>\n",
       "      <td>{'codigoIBGE': '2704302', 'nomeIBGE': 'MACEIÓ'...</td>\n",
       "      <td>{'nome': 'Ministério do Desenvolvimento Region...</td>\n",
       "      <td>***.336.684-**</td>\n",
       "    </tr>\n",
       "    <tr>\n",
       "      <th>1426</th>\n",
       "      <td>RUI_SOARES_PALMEIRA</td>\n",
       "      <td>ADRIANO OMENA DE MELO</td>\n",
       "      <td>None</td>\n",
       "      <td>11/2019</td>\n",
       "      <td>08/10/2019</td>\n",
       "      <td>1000.0</td>\n",
       "      <td>{'codigoIBGE': '2704302', 'nomeIBGE': 'MACEIÓ'...</td>\n",
       "      <td>{'nome': 'Ministério do Desenvolvimento Region...</td>\n",
       "      <td>***.188.604-**</td>\n",
       "    </tr>\n",
       "    <tr>\n",
       "      <th>1427</th>\n",
       "      <td>RUI_SOARES_PALMEIRA</td>\n",
       "      <td>MARLUCE NASCIMENTO DA SILVA MELO</td>\n",
       "      <td>None</td>\n",
       "      <td>09/2019</td>\n",
       "      <td>22/08/2019</td>\n",
       "      <td>-1000.0</td>\n",
       "      <td>{'codigoIBGE': '2704302', 'nomeIBGE': 'MACEIÓ'...</td>\n",
       "      <td>{'nome': 'Ministério do Desenvolvimento Region...</td>\n",
       "      <td>***.195.744-**</td>\n",
       "    </tr>\n",
       "    <tr>\n",
       "      <th>1428</th>\n",
       "      <td>RUI_SOARES_PALMEIRA</td>\n",
       "      <td>FABIO DAS CHAGAS MOTA</td>\n",
       "      <td>None</td>\n",
       "      <td>10/2019</td>\n",
       "      <td>09/09/2019</td>\n",
       "      <td>1000.0</td>\n",
       "      <td>{'codigoIBGE': '2704302', 'nomeIBGE': 'MACEIÓ'...</td>\n",
       "      <td>{'nome': 'Ministério do Desenvolvimento Region...</td>\n",
       "      <td>***.402.414-**</td>\n",
       "    </tr>\n",
       "    <tr>\n",
       "      <th>1429</th>\n",
       "      <td>RUI_SOARES_PALMEIRA</td>\n",
       "      <td>NEUZA MAMEDE DE SOUZA</td>\n",
       "      <td>None</td>\n",
       "      <td>10/2019</td>\n",
       "      <td>20/09/2019</td>\n",
       "      <td>1000.0</td>\n",
       "      <td>{'codigoIBGE': '2704302', 'nomeIBGE': 'MACEIÓ'...</td>\n",
       "      <td>{'nome': 'Ministério do Desenvolvimento Region...</td>\n",
       "      <td>***.325.504-**</td>\n",
       "    </tr>\n",
       "  </tbody>\n",
       "</table>\n",
       "</div>"
      ],
      "text/plain": [
       "                     nome                            nome_x  \\\n",
       "1425  RUI_SOARES_PALMEIRA       POLLANY CAVALCANTE FERREIRA   \n",
       "1426  RUI_SOARES_PALMEIRA             ADRIANO OMENA DE MELO   \n",
       "1427  RUI_SOARES_PALMEIRA  MARLUCE NASCIMENTO DA SILVA MELO   \n",
       "1428  RUI_SOARES_PALMEIRA             FABIO DAS CHAGAS MOTA   \n",
       "1429  RUI_SOARES_PALMEIRA             NEUZA MAMEDE DE SOUZA   \n",
       "\n",
       "     razaoSocialReceita mesExtrato dataTransacao  valorTransacao  \\\n",
       "1425               None    11/2019    23/10/2019          1000.0   \n",
       "1426               None    11/2019    08/10/2019          1000.0   \n",
       "1427               None    09/2019    22/08/2019         -1000.0   \n",
       "1428               None    10/2019    09/09/2019          1000.0   \n",
       "1429               None    10/2019    20/09/2019          1000.0   \n",
       "\n",
       "                                              municipio  \\\n",
       "1425  {'codigoIBGE': '2704302', 'nomeIBGE': 'MACEIÓ'...   \n",
       "1426  {'codigoIBGE': '2704302', 'nomeIBGE': 'MACEIÓ'...   \n",
       "1427  {'codigoIBGE': '2704302', 'nomeIBGE': 'MACEIÓ'...   \n",
       "1428  {'codigoIBGE': '2704302', 'nomeIBGE': 'MACEIÓ'...   \n",
       "1429  {'codigoIBGE': '2704302', 'nomeIBGE': 'MACEIÓ'...   \n",
       "\n",
       "                                         orgaoVinculado codigoFormatado_x  \n",
       "1425  {'nome': 'Ministério do Desenvolvimento Region...    ***.336.684-**  \n",
       "1426  {'nome': 'Ministério do Desenvolvimento Region...    ***.188.604-**  \n",
       "1427  {'nome': 'Ministério do Desenvolvimento Region...    ***.195.744-**  \n",
       "1428  {'nome': 'Ministério do Desenvolvimento Region...    ***.402.414-**  \n",
       "1429  {'nome': 'Ministério do Desenvolvimento Region...    ***.325.504-**  "
      ]
     },
     "execution_count": 51,
     "metadata": {},
     "output_type": "execute_result"
    }
   ],
   "source": [
    "df_Rui_modificado.head()"
   ]
  },
  {
   "cell_type": "code",
   "execution_count": 64,
   "metadata": {},
   "outputs": [
    {
     "data": {
      "text/plain": [
       "\"{'nome': 'Ministério do Desenvolvimento Regional - Unidades com vínculo direto', 'codigoSIAFI': '53000', 'cnpj': '03353358000196', 'sigla': 'INTEGRAÇÃO', 'descricaoPoder': 'EXECUTIVO', 'orgaoMaximo': {'codigo': '53000', 'sigla': 'INTEGRAÇÃO', 'nome': 'Ministério do Desenvolvimento Regional'}}\""
      ]
     },
     "execution_count": 64,
     "metadata": {},
     "output_type": "execute_result"
    }
   ],
   "source": [
    "df_Rui_modificado['orgaoVinculado'][1425]"
   ]
  },
  {
   "cell_type": "code",
   "execution_count": 66,
   "metadata": {},
   "outputs": [
    {
     "data": {
      "text/plain": [
       " 1000.0    974\n",
       "-1000.0     63\n",
       " 500.0       1\n",
       "Name: valorTransacao, dtype: int64"
      ]
     },
     "execution_count": 66,
     "metadata": {},
     "output_type": "execute_result"
    }
   ],
   "source": [
    "df_Rui_modificado['valorTransacao'].value_counts()"
   ]
  },
  {
   "cell_type": "code",
   "execution_count": 54,
   "metadata": {},
   "outputs": [
    {
     "data": {
      "text/plain": [
       "nome_x                              valorTransacao\n",
       "ABDON ALMEIDA MOREIRA               1000.0            1\n",
       "MARIA DA CONCEICAO FIGUEIREDO LIMA  1000.0            1\n",
       "MARIA DA PENHA DINIZ                1000.0            1\n",
       "MARIA DA PIEDADE DE MELO            1000.0            1\n",
       "MARIA DAS GRACAS DE SA              1000.0            1\n",
       "                                                     ..\n",
       "JULIO CESAR PERMINIO TENORIO        1000.0            4\n",
       "SANDRA RIOS GONZAGA                 1000.0            4\n",
       "RITA OLIVEIRA CAVALCANTE            1000.0            4\n",
       "VLADIMIR DE LIMA FONTES             1000.0            4\n",
       "EDSON ALENCAR SOBRINHO              1000.0            4\n",
       "Name: valorTransacao, Length: 860, dtype: int64"
      ]
     },
     "execution_count": 54,
     "metadata": {},
     "output_type": "execute_result"
    }
   ],
   "source": [
    "df_Rui_modificado.groupby([\"nome_x\"])[\"valorTransacao\"].value_counts().sort_values(ascending= True)"
   ]
  },
  {
   "cell_type": "code",
   "execution_count": null,
   "metadata": {},
   "outputs": [],
   "source": []
  },
  {
   "cell_type": "code",
   "execution_count": 306,
   "metadata": {},
   "outputs": [
    {
     "data": {
      "text/plain": [
       "<matplotlib.axes._subplots.AxesSubplot at 0x12e9fc438>"
      ]
     },
     "execution_count": 306,
     "metadata": {},
     "output_type": "execute_result"
    },
    {
     "data": {
      "image/png": "[encoded data removed]",
      "text/plain": [
       "<Figure size 432x288 with 1 Axes>"
      ]
     },
     "metadata": {
      "needs_background": "light"
     },
     "output_type": "display_data"
    }
   ],
   "source": [
    "df_Rui_modificado.groupby([\"mesExtrato\"])[\"valorTransacao\"].sum().sort_values(ascending =False).plot(kind=\"bar\")"
   ]
  },
  {
   "cell_type": "code",
   "execution_count": 333,
   "metadata": {},
   "outputs": [
    {
     "data": {
      "text/plain": [
       "year  month  day\n",
       "2019  1      3      16000.0\n",
       "             8       3000.0\n",
       "             10      3000.0\n",
       "             30      7000.0\n",
       "      2      9      -1000.0\n",
       "             20     16000.0\n",
       "             21     -1000.0\n",
       "      3      21     14000.0\n",
       "             22      4000.0\n",
       "             25      7000.0\n",
       "             28     10000.0\n",
       "             29     -1000.0\n",
       "      4      10     22500.0\n",
       "             17     24000.0\n",
       "             30     31000.0\n",
       "      5      4      12000.0\n",
       "             8      19000.0\n",
       "             9      10000.0\n",
       "             13     53000.0\n",
       "             17     23000.0\n",
       "             20      9000.0\n",
       "             21     -1000.0\n",
       "             22      1000.0\n",
       "             23     40000.0\n",
       "      6      8      -9000.0\n",
       "             9      -6000.0\n",
       "      7      10      6000.0\n",
       "             29     -2000.0\n",
       "             30     -2000.0\n",
       "      8      3       6000.0\n",
       "             10     83000.0\n",
       "             19     14000.0\n",
       "             22     -7000.0\n",
       "             23     42000.0\n",
       "             30     -4000.0\n",
       "      9      8      72000.0\n",
       "             9      78000.0\n",
       "             18     11000.0\n",
       "             19     14000.0\n",
       "             20      6000.0\n",
       "             23     62000.0\n",
       "             24      2000.0\n",
       "             27      1000.0\n",
       "             30      6000.0\n",
       "      10     10     44000.0\n",
       "             17     34000.0\n",
       "             18     -9000.0\n",
       "             22     -2000.0\n",
       "             23     42000.0\n",
       "             24      3000.0\n",
       "      11     9      46000.0\n",
       "             10     -1000.0\n",
       "      12     8      44000.0\n",
       "             9      17000.0\n",
       "Name: valorTransacao, dtype: float64"
      ]
     },
     "execution_count": 333,
     "metadata": {},
     "output_type": "execute_result"
    }
   ],
   "source": [
    "df_Rui_modificado.groupby([\"year\", \"month\", \"day\"])[\"valorTransacao\"].sum()"
   ]
  },
  {
   "cell_type": "code",
   "execution_count": 320,
   "metadata": {},
   "outputs": [],
   "source": [
    "df_Rui_modificado[\"datetime\"] = pd.to_datetime(df_Rui_modificado[\"dataTransacao\"])"
   ]
  },
  {
   "cell_type": "code",
   "execution_count": 331,
   "metadata": {},
   "outputs": [
    {
     "data": {
      "text/html": [
       "<div>\n",
       "<style scoped>\n",
       "    .dataframe tbody tr th:only-of-type {\n",
       "        vertical-align: middle;\n",
       "    }\n",
       "\n",
       "    .dataframe tbody tr th {\n",
       "        vertical-align: top;\n",
       "    }\n",
       "\n",
       "    .dataframe thead th {\n",
       "        text-align: right;\n",
       "    }\n",
       "</style>\n",
       "<table border=\"1\" class=\"dataframe\">\n",
       "  <thead>\n",
       "    <tr style=\"text-align: right;\">\n",
       "      <th></th>\n",
       "      <th>nome</th>\n",
       "      <th>razaoSocialReceita</th>\n",
       "      <th>mesExtrato</th>\n",
       "      <th>dataTransacao</th>\n",
       "      <th>valorTransacao</th>\n",
       "      <th>municipio</th>\n",
       "      <th>orgaoVinculado</th>\n",
       "      <th>codigoFormatado_x</th>\n",
       "      <th>datetime</th>\n",
       "      <th>year</th>\n",
       "      <th>month</th>\n",
       "      <th>day</th>\n",
       "    </tr>\n",
       "  </thead>\n",
       "  <tbody>\n",
       "    <tr>\n",
       "      <th>1425</th>\n",
       "      <td>RUI_SOARES_PALMEIRA</td>\n",
       "      <td>None</td>\n",
       "      <td>11/2019</td>\n",
       "      <td>23/10/2019</td>\n",
       "      <td>1000.0</td>\n",
       "      <td>{'codigoIBGE': '2704302', 'nomeIBGE': 'MACEIÓ'...</td>\n",
       "      <td>{'nome': 'Ministério do Desenvolvimento Region...</td>\n",
       "      <td>***.336.684-**</td>\n",
       "      <td>2019-10-23</td>\n",
       "      <td>2019</td>\n",
       "      <td>10</td>\n",
       "      <td>23</td>\n",
       "    </tr>\n",
       "    <tr>\n",
       "      <th>1426</th>\n",
       "      <td>RUI_SOARES_PALMEIRA</td>\n",
       "      <td>None</td>\n",
       "      <td>11/2019</td>\n",
       "      <td>08/10/2019</td>\n",
       "      <td>1000.0</td>\n",
       "      <td>{'codigoIBGE': '2704302', 'nomeIBGE': 'MACEIÓ'...</td>\n",
       "      <td>{'nome': 'Ministério do Desenvolvimento Region...</td>\n",
       "      <td>***.188.604-**</td>\n",
       "      <td>2019-08-10</td>\n",
       "      <td>2019</td>\n",
       "      <td>8</td>\n",
       "      <td>10</td>\n",
       "    </tr>\n",
       "    <tr>\n",
       "      <th>1427</th>\n",
       "      <td>RUI_SOARES_PALMEIRA</td>\n",
       "      <td>None</td>\n",
       "      <td>09/2019</td>\n",
       "      <td>22/08/2019</td>\n",
       "      <td>-1000.0</td>\n",
       "      <td>{'codigoIBGE': '2704302', 'nomeIBGE': 'MACEIÓ'...</td>\n",
       "      <td>{'nome': 'Ministério do Desenvolvimento Region...</td>\n",
       "      <td>***.195.744-**</td>\n",
       "      <td>2019-08-22</td>\n",
       "      <td>2019</td>\n",
       "      <td>8</td>\n",
       "      <td>22</td>\n",
       "    </tr>\n",
       "    <tr>\n",
       "      <th>1428</th>\n",
       "      <td>RUI_SOARES_PALMEIRA</td>\n",
       "      <td>None</td>\n",
       "      <td>10/2019</td>\n",
       "      <td>09/09/2019</td>\n",
       "      <td>1000.0</td>\n",
       "      <td>{'codigoIBGE': '2704302', 'nomeIBGE': 'MACEIÓ'...</td>\n",
       "      <td>{'nome': 'Ministério do Desenvolvimento Region...</td>\n",
       "      <td>***.402.414-**</td>\n",
       "      <td>2019-09-09</td>\n",
       "      <td>2019</td>\n",
       "      <td>9</td>\n",
       "      <td>9</td>\n",
       "    </tr>\n",
       "    <tr>\n",
       "      <th>1429</th>\n",
       "      <td>RUI_SOARES_PALMEIRA</td>\n",
       "      <td>None</td>\n",
       "      <td>10/2019</td>\n",
       "      <td>20/09/2019</td>\n",
       "      <td>1000.0</td>\n",
       "      <td>{'codigoIBGE': '2704302', 'nomeIBGE': 'MACEIÓ'...</td>\n",
       "      <td>{'nome': 'Ministério do Desenvolvimento Region...</td>\n",
       "      <td>***.325.504-**</td>\n",
       "      <td>2019-09-20</td>\n",
       "      <td>2019</td>\n",
       "      <td>9</td>\n",
       "      <td>20</td>\n",
       "    </tr>\n",
       "  </tbody>\n",
       "</table>\n",
       "</div>"
      ],
      "text/plain": [
       "                     nome razaoSocialReceita mesExtrato dataTransacao  \\\n",
       "1425  RUI_SOARES_PALMEIRA               None    11/2019    23/10/2019   \n",
       "1426  RUI_SOARES_PALMEIRA               None    11/2019    08/10/2019   \n",
       "1427  RUI_SOARES_PALMEIRA               None    09/2019    22/08/2019   \n",
       "1428  RUI_SOARES_PALMEIRA               None    10/2019    09/09/2019   \n",
       "1429  RUI_SOARES_PALMEIRA               None    10/2019    20/09/2019   \n",
       "\n",
       "      valorTransacao                                          municipio  \\\n",
       "1425          1000.0  {'codigoIBGE': '2704302', 'nomeIBGE': 'MACEIÓ'...   \n",
       "1426          1000.0  {'codigoIBGE': '2704302', 'nomeIBGE': 'MACEIÓ'...   \n",
       "1427         -1000.0  {'codigoIBGE': '2704302', 'nomeIBGE': 'MACEIÓ'...   \n",
       "1428          1000.0  {'codigoIBGE': '2704302', 'nomeIBGE': 'MACEIÓ'...   \n",
       "1429          1000.0  {'codigoIBGE': '2704302', 'nomeIBGE': 'MACEIÓ'...   \n",
       "\n",
       "                                         orgaoVinculado codigoFormatado_x  \\\n",
       "1425  {'nome': 'Ministério do Desenvolvimento Region...    ***.336.684-**   \n",
       "1426  {'nome': 'Ministério do Desenvolvimento Region...    ***.188.604-**   \n",
       "1427  {'nome': 'Ministério do Desenvolvimento Region...    ***.195.744-**   \n",
       "1428  {'nome': 'Ministério do Desenvolvimento Region...    ***.402.414-**   \n",
       "1429  {'nome': 'Ministério do Desenvolvimento Region...    ***.325.504-**   \n",
       "\n",
       "       datetime  year  month  day  \n",
       "1425 2019-10-23  2019     10   23  \n",
       "1426 2019-08-10  2019      8   10  \n",
       "1427 2019-08-22  2019      8   22  \n",
       "1428 2019-09-09  2019      9    9  \n",
       "1429 2019-09-20  2019      9   20  "
      ]
     },
     "execution_count": 331,
     "metadata": {},
     "output_type": "execute_result"
    }
   ],
   "source": [
    "df_Rui_modificado[\"month\"] = df_Rui_modificado[\"datetime\"].dt.month\n",
    "df_Rui_modificado[\"year\"] = df_Rui_modificado[\"datetime\"].dt.year\n",
    "df_Rui_modificado[\"day\"] = df_Rui_modificado[\"datetime\"].dt.day\n",
    "df_Rui_modificado.head()"
   ]
  },
  {
   "cell_type": "code",
   "execution_count": 315,
   "metadata": {},
   "outputs": [
    {
     "data": {
      "text/plain": [
       "***.960.384-**    4\n",
       "***.434.784-**    4\n",
       "***.711.224-**    4\n",
       "***.365.874-**    4\n",
       "***.358.814-**    4\n",
       "                 ..\n",
       "***.180.604-**    1\n",
       "***.697.554-**    1\n",
       "***.861.904-**    1\n",
       "***.976.214-**    1\n",
       "***.421.824-**    1\n",
       "Name: codigoFormatado_x, Length: 837, dtype: int64"
      ]
     },
     "execution_count": 315,
     "metadata": {},
     "output_type": "execute_result"
    }
   ],
   "source": [
    "df_Rui_modificado[\"codigoFormatado_x\"].value_counts().sort_values(ascending =False)"
   ]
  },
  {
   "cell_type": "code",
   "execution_count": 318,
   "metadata": {},
   "outputs": [
    {
     "data": {
      "text/plain": [
       "1"
      ]
     },
     "execution_count": 318,
     "metadata": {},
     "output_type": "execute_result"
    }
   ],
   "source": [
    "df_Rui_modificado[\"razaoSocialReceita\"].count()"
   ]
  },
  {
   "cell_type": "code",
   "execution_count": null,
   "metadata": {},
   "outputs": [],
   "source": [
    "#df[\"nome\"]=df[\"nome\"].replace('NA','0')\n",
    "\n",
    "#df.groupby([\"nome\"])[\"valorTransacao\"].sum().sort_values(ascending =False)\n",
    "\n",
    "#dá para fazer um FOR para cada valor alto: df.groupby(\"nome\")[\"valorTransacao\"].sum()[0]"
   ]
  }
 ],
 "metadata": {
  "kernelspec": {
   "display_name": "Python 3",
   "language": "python",
   "name": "python3"
  },
  "language_info": {
   "codemirror_mode": {
    "name": "ipython",
    "version": 3
   },
   "file_extension": ".py",
   "mimetype": "text/x-python",
   "name": "python",
   "nbconvert_exporter": "python",
   "pygments_lexer": "ipython3",
   "version": "3.7.3"
  }
 },
 "nbformat": 4,
 "nbformat_minor": 4
}
